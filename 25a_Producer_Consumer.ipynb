{
 "cells": [
  {
   "cell_type": "markdown",
   "metadata": {},
   "source": [
    "# TLM Ports and Exports\n",
    "\n",
    "Note: These examples must be run in a freshly restarted notebook kernal.  Use the >> icon above to run the example.\n",
    "\n",
    "## UVM TLM Export Classes"
   ]
  },
  {
   "cell_type": "code",
   "execution_count": 1,
   "metadata": {},
   "outputs": [
    {
     "name": "stdout",
     "output_type": "stream",
     "text": [
      "3 2 1 0 Happy New Year!\n"
     ]
    }
   ],
   "source": [
    "from pyuvm import *\n",
    "import time\n",
    "\n",
    "class Producer(uvm_component):\n",
    "    def build_phase(self):\n",
    "        self.put_port = uvm_put_port(\"put_port\", self)\n",
    "    \n",
    "    def run_phase(self):\n",
    "        for sec in range(3, -1, -1):\n",
    "            time.sleep(1)\n",
    "            self.put_port.put(sec)\n",
    "\n",
    "class Consumer(uvm_component):\n",
    "    def build_phase(self):\n",
    "        self.get_port = uvm_get_port(\"get_port\", self)\n",
    "    \n",
    "    def run_phase(self):\n",
    "        self.raise_objection()\n",
    "        sec = None\n",
    "        while sec != 0:\n",
    "            sec = self.get_port.get()\n",
    "            print(sec,end =\" \")\n",
    "        print(\"Happy New Year!\")\n",
    "        self.drop_objection()\n",
    "\n",
    "class CountdownTest(uvm_test):\n",
    "    \n",
    "    def build_phase(self):\n",
    "        self.fifo = uvm_tlm_fifo(\"fifo\", self)\n",
    "        self.pro  = Producer(\"pro\", self)\n",
    "        self.con  = Consumer(\"con\", self)\n",
    "        \n",
    "    def connect_phase(self):\n",
    "        self.pro.put_port.connect(self.fifo.put_export)\n",
    "        self.con.get_port.connect(self.fifo.get_export)\n",
    "        \n",
    "\n",
    "uvm_root().run_test(\"CountdownTest\")"
   ]
  },
  {
   "cell_type": "code",
   "execution_count": null,
   "metadata": {},
   "outputs": [],
   "source": []
  }
 ],
 "metadata": {
  "kernelspec": {
   "display_name": "Python 3",
   "language": "python",
   "name": "python3"
  },
  "language_info": {
   "codemirror_mode": {
    "name": "ipython",
    "version": 3
   },
   "file_extension": ".py",
   "mimetype": "text/x-python",
   "name": "python",
   "nbconvert_exporter": "python",
   "pygments_lexer": "ipython3",
   "version": "3.8.3"
  }
 },
 "nbformat": 4,
 "nbformat_minor": 4
}
