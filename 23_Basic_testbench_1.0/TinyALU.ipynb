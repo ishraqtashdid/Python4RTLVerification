{
 "cells": [
  {
   "cell_type": "code",
   "execution_count": 1,
   "id": "b6ba2055",
   "metadata": {},
   "outputs": [],
   "source": [
    "import cocotb\n",
    "from cocotb.triggers import FallingEdge\n",
    "import random"
   ]
  },
  {
   "cell_type": "code",
   "execution_count": 34,
   "id": "11c87582",
   "metadata": {},
   "outputs": [],
   "source": [
    "#help(random)"
   ]
  },
  {
   "cell_type": "markdown",
   "id": "e1ecc906",
   "metadata": {},
   "source": [
    "random - Random variable generators."
   ]
  },
  {
   "cell_type": "code",
   "execution_count": 4,
   "id": "d7cc2f68",
   "metadata": {},
   "outputs": [],
   "source": [
    "from pathlib import Path\n",
    "parent_path = Path(\"..\").resolve()\n",
    "\n",
    "import sys  # noqa: E402\n",
    "sys.path.insert(0, str(parent_path))\n",
    "\n",
    "#from tinyalu_utils import Ops, alu_prediction, logger, get_int  # noqa: E402"
   ]
  },
  {
   "cell_type": "markdown",
   "id": "d47042e7",
   "metadata": {},
   "source": [
    "# ASSUMPTION\n",
    "tinyalu_utls contains the different aspects of the ALU system \n",
    "OPS= operatations that it can do\n",
    "alu_prediction= the results it should yield\n",
    "logger= logging of the results\n",
    "get_int= gets the integer from a variable \n",
    "\n",
    "eg: \n",
    "\n",
    "value=5; \n",
    "\n",
    "y=value.get_int;\n",
    "\n",
    "y=5;\n",
    "\n",
    "* \"You're welcome Reyad bhai\" *"
   ]
  },
  {
   "cell_type": "code",
   "execution_count": 7,
   "id": "76f1a2d1",
   "metadata": {},
   "outputs": [],
   "source": [
    "@cocotb.test()#this is the start of the testbench\n",
    "async def alu_test(dut):\n",
    "    \"\"\"\n",
    "    asunchronous function: details can be found from this YT video:\n",
    "    https://www.youtube.com/watch?v=t5Bo1Je9EmE\n",
    "    \n",
    "    But basically all the functions in python by default are synchronous,\n",
    "    they run and finish, then another function is run.\n",
    "    \n",
    "    Eg: if I call a function named counter()\n",
    "    then I call get_value_counter()\n",
    "    the counter function will finish running then the get_value_counter will run.\n",
    "    \n",
    "    However, in async, there is scope for multiple things to run concurrently.\n",
    "    \n",
    "    \"\"\"\n",
    "    passed = True \n",
    "    cvg = set()  # functional coverage\n",
    "    await FallingEdge(dut.clk) \n",
    "    \"\"\"\n",
    "    awaits can only be called in a async function.\n",
    "    When this is callaed, it waits for something. And by the meantime,\n",
    "    looks for other functions that can be finished within that time, \n",
    "    hence the idea of things running simultaneously\n",
    "    \n",
    "    more details on the YT video.\n",
    "    \"\"\"\n",
    "    dut.reset_n.value = 0 #.value is used to assign value\n",
    "                          #reset_n is made 0\n",
    "    dut.start.value = 0\n",
    "    await FallingEdge(dut.clk) #1 clock cycle delay is put with this line\n",
    "    dut.reset_n.value = 1"
   ]
  },
  {
   "cell_type": "code",
   "execution_count": 11,
   "id": "9888a7df",
   "metadata": {
    "collapsed": true
   },
   "outputs": [
    {
     "ename": "IndentationError",
     "evalue": "unexpected indent (3280199763.py, line 2)",
     "output_type": "error",
     "traceback": [
      "\u001b[0;36m  Input \u001b[0;32mIn [11]\u001b[0;36m\u001b[0m\n\u001b[0;31m    op_list = list(Ops)\u001b[0m\n\u001b[0m    ^\u001b[0m\n\u001b[0;31mIndentationError\u001b[0m\u001b[0;31m:\u001b[0m unexpected indent\n"
     ]
    }
   ],
   "source": [
    "cmd_count = 1\n",
    "    op_list = list(Ops)\n",
    "    num_ops = len(op_list)\n",
    "    while cmd_count <= num_ops:\n",
    "        await FallingEdge(dut.clk)\n",
    "        st = get_int(dut.start)\n",
    "        dn = get_int(dut.done)"
   ]
  },
  {
   "cell_type": "markdown",
   "id": "04341130",
   "metadata": {},
   "source": [
    "The cell doesn't run since the Ops is not found. As we *actually* **do not have a tinyALU**"
   ]
  },
  {
   "cell_type": "code",
   "execution_count": 10,
   "id": "27fd9252",
   "metadata": {
    "collapsed": true
   },
   "outputs": [
    {
     "ename": "IndentationError",
     "evalue": "unexpected indent (2312368089.py, line 3)",
     "output_type": "error",
     "traceback": [
      "\u001b[0;36m  Input \u001b[0;32mIn [10]\u001b[0;36m\u001b[0m\n\u001b[0;31m    aa = random.randint(0, 255) #random values are assigned using the random module that we imported before\u001b[0m\n\u001b[0m    ^\u001b[0m\n\u001b[0;31mIndentationError\u001b[0m\u001b[0;31m:\u001b[0m unexpected indent\n"
     ]
    }
   ],
   "source": [
    "if st == 0 and dn == 0: \n",
    "    \"\"\"I think the st denotes set and dn is done\"\"\"\n",
    "            aa = random.randint(0, 255) #random values are assigned using the random module that we imported before\n",
    "            bb = random.randint(0, 255)\n",
    "            op = op_list.pop(0) #we are popping the op_list to the stack\n",
    "            cvg.add(op) #adding the operation to the coverage list\n",
    "            dut.A.value = aa #assigning the A of DUT as aa (random value between 0-255)\n",
    "            dut.B.value = bb\n",
    "            dut.op.value = op\n",
    "            dut.start.value = 1 #starting the ALU"
   ]
  },
  {
   "cell_type": "code",
   "execution_count": 15,
   "id": "95552320",
   "metadata": {
    "collapsed": true
   },
   "outputs": [
    {
     "ename": "IndentationError",
     "evalue": "unindent does not match any outer indentation level (<tokenize>, line 8)",
     "output_type": "error",
     "traceback": [
      "\u001b[0;36m  File \u001b[0;32m<tokenize>:8\u001b[0;36m\u001b[0m\n\u001b[0;31m    if st == 1 and dn == 0:\u001b[0m\n\u001b[0m    ^\u001b[0m\n\u001b[0;31mIndentationError\u001b[0m\u001b[0;31m:\u001b[0m unindent does not match any outer indentation level\n"
     ]
    }
   ],
   "source": [
    " if st == 0 and dn == 1:\n",
    "            raise AssertionError(\"DUT Error: done set to 1 without start\")\n",
    "            \"\"\"\n",
    "            Pretty much self explanatory\n",
    "            asserts whether the ALU finished (done=1) without the value being set first.\n",
    "            \"\"\"\n",
    "# Figure 11: If we are in an operation, continue\n",
    "        if st == 1 and dn == 0:\n",
    "            continue"
   ]
  },
  {
   "cell_type": "code",
   "execution_count": 16,
   "id": "1a3138c7",
   "metadata": {
    "collapsed": true
   },
   "outputs": [
    {
     "ename": "IndentationError",
     "evalue": "unexpected indent (2702114143.py, line 2)",
     "output_type": "error",
     "traceback": [
      "\u001b[0;36m  Input \u001b[0;32mIn [16]\u001b[0;36m\u001b[0m\n\u001b[0;31m    if st == 1 and dn == 1:\u001b[0m\n\u001b[0m    ^\u001b[0m\n\u001b[0;31mIndentationError\u001b[0m\u001b[0;31m:\u001b[0m unexpected indent\n"
     ]
    }
   ],
   "source": [
    "# Figure 12: The operation is complete\n",
    "        if st == 1 and dn == 1:\n",
    "            dut.start.value = 0 \n",
    "            \"\"\"\n",
    "            I think the dn becomes 1 when an operation finishes and when it does,\n",
    "            start is made 0 because you don't want the ALU to start operating right away.\n",
    "            You want to evaluate the result first and then the result is checked using the code below\n",
    "            \"\"\"\n",
    "            cmd_count += 1\n",
    "            result = get_int(dut.result) # get_int gets the integer answer from dut.result"
   ]
  },
  {
   "cell_type": "code",
   "execution_count": 17,
   "id": "87e7d148",
   "metadata": {
    "collapsed": true
   },
   "outputs": [
    {
     "ename": "IndentationError",
     "evalue": "unexpected indent (2101556084.py, line 2)",
     "output_type": "error",
     "traceback": [
      "\u001b[0;36m  Input \u001b[0;32mIn [17]\u001b[0;36m\u001b[0m\n\u001b[0;31m    if result == pr:\u001b[0m\n\u001b[0m    ^\u001b[0m\n\u001b[0;31mIndentationError\u001b[0m\u001b[0;31m:\u001b[0m unexpected indent\n"
     ]
    }
   ],
   "source": [
    " pr = alu_prediction(aa, bb, op) #checker for the ALU\n",
    "            if result == pr: #if the result and the prediction are the same\n",
    "                logger.info(\n",
    "                    f\"PASSED: {aa:2x} {op.name} {bb:2x} = {result:04x}\")\n",
    "            else:\n",
    "                logger.error(\n",
    "                    f\"FAILED: {aa:2x} {op.name} {bb:2x} =\"\n",
    "                    f\" {result:04x} - predicted {pr:04x}\")\n",
    "                passed = False #passed was made True at the start"
   ]
  },
  {
   "cell_type": "code",
   "execution_count": 24,
   "id": "3d27b74c",
   "metadata": {
    "collapsed": true
   },
   "outputs": [
    {
     "ename": "IndentationError",
     "evalue": "unexpected indent (796631910.py, line 3)",
     "output_type": "error",
     "traceback": [
      "\u001b[0;36m  Input \u001b[0;32mIn [24]\u001b[0;36m\u001b[0m\n\u001b[0;31m    if len(set(Ops) - cvg) > 0:\u001b[0m\n\u001b[0m    ^\u001b[0m\n\u001b[0;31mIndentationError\u001b[0m\u001b[0;31m:\u001b[0m unexpected indent\n"
     ]
    }
   ],
   "source": [
    "\"\"\"COVERAGE CHECKING\"\"\" \n",
    "    \n",
    "    if len(set(Ops) - cvg) > 0: \n",
    "        #checks if the number of operations and cvg(which is the operations checked) is same or not\n",
    "        logger.error(f\"Functional coverage error. Missed: {set(Ops)-cvg}\")\n",
    "        passed = False\n",
    "    else:\n",
    "        logger.info(\"Covered all operations\")\n",
    "# Figure 15: This assertion relays pass/fail to cocotb\n",
    "    assert passed"
   ]
  },
  {
   "cell_type": "code",
   "execution_count": null,
   "id": "d012e000",
   "metadata": {},
   "outputs": [],
   "source": []
  }
 ],
 "metadata": {
  "kernelspec": {
   "display_name": "Python 3 (ipykernel)",
   "language": "python",
   "name": "python3"
  },
  "language_info": {
   "codemirror_mode": {
    "name": "ipython",
    "version": 3
   },
   "file_extension": ".py",
   "mimetype": "text/x-python",
   "name": "python",
   "nbconvert_exporter": "python",
   "pygments_lexer": "ipython3",
   "version": "3.9.12"
  }
 },
 "nbformat": 4,
 "nbformat_minor": 5
}
