{
 "cells": [
  {
   "cell_type": "markdown",
   "metadata": {},
   "source": [
    "# Protected Variables and Properties"
   ]
  },
  {
   "cell_type": "code",
   "execution_count": 22,
   "metadata": {},
   "outputs": [
    {
     "name": "stdout",
     "output_type": "stream",
     "text": [
      "Freezing is 32 ℃\n"
     ]
    }
   ],
   "source": [
    "class Temperature:\n",
    "    def __init__(self, temp):\n",
    "        self.temp = temp\n",
    "    \n",
    "    def to_f(self):\n",
    "        ft = self.temp * 9 / 5 + 32\n",
    "    \n",
    "    def to_c(self):\n",
    "        return self.temp\n",
    "\n",
    "tt = Temperature(0)\n",
    "# Later in the code\n",
    "tt.temp = 32 \n",
    "print(f\"Freezing is {tt.to_c()} ℃\")"
   ]
  },
  {
   "cell_type": "markdown",
   "metadata": {},
   "source": [
    "## Protected Variables"
   ]
  },
  {
   "cell_type": "code",
   "execution_count": 1,
   "metadata": {
    "scrolled": true
   },
   "outputs": [
    {
     "name": "stdout",
     "output_type": "stream",
     "text": [
      "Freezing is 32 ℃\n"
     ]
    }
   ],
   "source": [
    "class Temperature:\n",
    "    def __init__(self, temp):\n",
    "        self._temp = temp\n",
    "    \n",
    "    def set_c_temp(self, c_temp):\n",
    "        self._temp = c_temp\n",
    "        \n",
    "    def set_f_temp(self, f_temp):\n",
    "        self._temp = (f_temp - 32) * 5 / 9\n",
    "\n",
    "    def get_f_temp(self):\n",
    "        ft = self._temp * 9 / 5 + 32\n",
    "    \n",
    "    def get_c_temp(self):\n",
    "        return self._temp\n",
    "\n",
    "tt = Temperature(0)\n",
    "tt._temp = 32  #No! Bad programmer!\n",
    "print(f\"Freezing is {tt.get_c_temp()} ℃\")"
   ]
  },
  {
   "cell_type": "markdown",
   "metadata": {},
   "source": [
    "## Private Variables"
   ]
  },
  {
   "cell_type": "code",
   "execution_count": 4,
   "metadata": {},
   "outputs": [
    {
     "ename": "AttributeError",
     "evalue": "'Temperature' object has no attribute '__c_temp'",
     "output_type": "error",
     "traceback": [
      "\u001b[0;31m---------------------------------------------------------------------------\u001b[0m",
      "\u001b[0;31mAttributeError\u001b[0m                            Traceback (most recent call last)",
      "\u001b[0;32m<ipython-input-4-3be6883334e2>\u001b[0m in \u001b[0;36m<module>\u001b[0;34m\u001b[0m\n\u001b[1;32m     17\u001b[0m \u001b[0mtt\u001b[0m \u001b[0;34m=\u001b[0m \u001b[0mTemperature\u001b[0m\u001b[0;34m(\u001b[0m\u001b[0;36m0\u001b[0m\u001b[0;34m)\u001b[0m\u001b[0;34m\u001b[0m\u001b[0;34m\u001b[0m\u001b[0m\n\u001b[1;32m     18\u001b[0m \u001b[0mtt\u001b[0m\u001b[0;34m.\u001b[0m\u001b[0m__temp\u001b[0m \u001b[0;34m=\u001b[0m \u001b[0;36m32\u001b[0m \u001b[0;31m# Bad programmer!\u001b[0m\u001b[0;34m\u001b[0m\u001b[0;34m\u001b[0m\u001b[0m\n\u001b[0;32m---> 19\u001b[0;31m \u001b[0mprint\u001b[0m \u001b[0;34m(\u001b[0m\u001b[0;34m\"Temp in C\"\u001b[0m\u001b[0;34m,\u001b[0m \u001b[0mtt\u001b[0m\u001b[0;34m.\u001b[0m\u001b[0m__c_temp\u001b[0m\u001b[0;34m)\u001b[0m\u001b[0;34m\u001b[0m\u001b[0;34m\u001b[0m\u001b[0m\n\u001b[0m",
      "\u001b[0;31mAttributeError\u001b[0m: 'Temperature' object has no attribute '__c_temp'"
     ]
    }
   ],
   "source": [
    "class Temperature:\n",
    "    def __init__(self, temp):\n",
    "        self.__temp = temp\n",
    "    \n",
    "    def set_c_temp(self, c_temp):\n",
    "        self.__temp = c_temp\n",
    "        \n",
    "    def set_f_temp(self, f_temp):\n",
    "        self.__temp = (f_temp - 32) * 5 / 9\n",
    "\n",
    "    def get_f_temp(self):\n",
    "        ft = self.__temp * 9 / 5 + 32\n",
    "    \n",
    "    def get_c_temp(self):\n",
    "        return self.__temp\n",
    "\n",
    "tt = Temperature(0)\n",
    "tt.__temp = 32 # Bad programmer!\n",
    "print (\"Temp in C\", tt.__c_temp) "
   ]
  },
  {
   "cell_type": "markdown",
   "metadata": {},
   "source": [
    "## Properties"
   ]
  },
  {
   "cell_type": "code",
   "execution_count": 7,
   "metadata": {},
   "outputs": [
    {
     "name": "stdout",
     "output_type": "stream",
     "text": [
      "set c_temp to 0\n",
      "Freezing point in F: 32.0\n",
      "set c_temp to 100\n",
      "Boiling point in F: 212.0\n",
      "tt:  100.0 C == 212.0 F\n"
     ]
    }
   ],
   "source": [
    "class Temperature:\n",
    "    def __init__(self, c_temp):\n",
    "        self.__c_temp = c_temp\n",
    "    \n",
    "    @property   \n",
    "    def c_temp(self):\n",
    "        return self.__c_temp\n",
    "    \n",
    "    @c_temp.setter\n",
    "    def c_temp(self, c_temp):\n",
    "        self.__c_temp = c_temp\n",
    "        \n",
    "    @property\n",
    "    def f_temp(self):\n",
    "        return self.__c_temp * 9 / 5 + 32\n",
    "\n",
    "    @f_temp.setter\n",
    "    def f_temp(self, f_temp):\n",
    "        self.__c_temp = (f_temp - 32) * 5 / 9\n",
    "    \n",
    "    def __str__(self):\n",
    "        return f\"{self.c_temp:.1f} C == {self.f_temp:.1f} F\"\n",
    "tt = Temperature(35)\n",
    "print(\"set c_temp to 0\")\n",
    "tt.c_temp = 0\n",
    "print(\"Freezing point in F:\", tt.f_temp)\n",
    "print(\"set c_temp to 100\")\n",
    "tt.c_temp = 100\n",
    "print(\"Boiling point in F:\", tt.f_temp)\n",
    "print(\"tt: \", tt)"
   ]
  },
  {
   "cell_type": "code",
   "execution_count": null,
   "metadata": {},
   "outputs": [],
   "source": []
  }
 ],
 "metadata": {
  "kernelspec": {
   "display_name": "Python 3",
   "language": "python",
   "name": "python3"
  },
  "language_info": {
   "codemirror_mode": {
    "name": "ipython",
    "version": 3
   },
   "file_extension": ".py",
   "mimetype": "text/x-python",
   "name": "python",
   "nbconvert_exporter": "python",
   "pygments_lexer": "ipython3",
   "version": "3.8.3"
  }
 },
 "nbformat": 4,
 "nbformat_minor": 4
}
