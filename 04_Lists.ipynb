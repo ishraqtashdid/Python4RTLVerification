{
 "cells": [
  {
   "cell_type": "markdown",
   "metadata": {},
   "source": [
    "# Lists\n",
    "\n",
    "An ordered list."
   ]
  },
  {
   "cell_type": "markdown",
   "metadata": {},
   "source": [
    "Make a list using square brackets `[ ]`"
   ]
  },
  {
   "cell_type": "code",
   "execution_count": 2,
   "metadata": {
    "scrolled": true
   },
   "outputs": [
    {
     "name": "stdout",
     "output_type": "stream",
     "text": [
      "List within a list: ['a', 3, ['x', 'y']]\n"
     ]
    }
   ],
   "source": [
    "LL = ['x','y'] # create a list\n",
    "mylist = ['a',3,LL] # put it into another list\n",
    "print(\"List within a list:\", mylist)"
   ]
  },
  {
   "cell_type": "markdown",
   "metadata": {},
   "source": [
    "Make a list using the constructor."
   ]
  },
  {
   "cell_type": "code",
   "execution_count": 4,
   "metadata": {},
   "outputs": [
    {
     "name": "stdout",
     "output_type": "stream",
     "text": [
      "empty: []\n",
      "one_to_four: [1, 2, 3, 4]\n"
     ]
    }
   ],
   "source": [
    "empty = list()\n",
    "one_to_four = list(range(1,5))\n",
    "print(\"empty:\", empty)\n",
    "print(\"one_to_four:\", one_to_four)      "
   ]
  },
  {
   "cell_type": "markdown",
   "metadata": {},
   "source": [
    "## Creating Lists"
   ]
  },
  {
   "cell_type": "markdown",
   "metadata": {},
   "source": [
    "Using the `list` constructor"
   ]
  },
  {
   "cell_type": "code",
   "execution_count": 2,
   "metadata": {},
   "outputs": [
    {
     "name": "stdout",
     "output_type": "stream",
     "text": [
      "empty_bracket []\n",
      "empty_constructor []\n",
      "from_range(3)_iterator [0, 1, 2]\n"
     ]
    }
   ],
   "source": [
    "empty_bracket = []\n",
    "empty_constructor  = list()\n",
    "from_range_iterator = list(range(3))\n",
    "print(\"empty_bracket\", empty_bracket)\n",
    "print(\"empty_constructor\", empty_constructor)\n",
    "print(\"from_range(3)_iterator\", from_range_iterator)"
   ]
  },
  {
   "cell_type": "markdown",
   "metadata": {},
   "source": [
    "### List Comprehension"
   ]
  },
  {
   "cell_type": "markdown",
   "metadata": {},
   "source": [
    "Creating an even number list with a for loop"
   ]
  },
  {
   "cell_type": "code",
   "execution_count": 1,
   "metadata": {},
   "outputs": [
    {
     "name": "stdout",
     "output_type": "stream",
     "text": [
      "even squares [0, 4, 16, 36, 64, 100]\n"
     ]
    }
   ],
   "source": [
    "even_squares =  []\n",
    "for nn in range(11):\n",
    "    if nn % 2 == 0:\n",
    "        even_squares.append(nn**2)\n",
    "print(\"even squares\", even_squares)"
   ]
  },
  {
   "cell_type": "markdown",
   "metadata": {},
   "source": [
    "Creating an even number list with a list comprension"
   ]
  },
  {
   "cell_type": "code",
   "execution_count": 2,
   "metadata": {},
   "outputs": [
    {
     "name": "stdout",
     "output_type": "stream",
     "text": [
      "even squares [0, 4, 16, 36, 64, 100]\n"
     ]
    }
   ],
   "source": [
    "even_squares = [nn**2 for nn in range(11) if nn % 2 == 0]\n",
    "print(\"even squares\", even_squares)"
   ]
  },
  {
   "cell_type": "markdown",
   "metadata": {},
   "source": [
    "Capital letter list with a for loop"
   ]
  },
  {
   "cell_type": "code",
   "execution_count": 3,
   "metadata": {},
   "outputs": [
    {
     "name": "stdout",
     "output_type": "stream",
     "text": [
      "even squares [0, 4, 16, 36, 64, 100]\n"
     ]
    }
   ],
   "source": [
    "even_squares = [nn**2 \n",
    "                for nn \n",
    "                in range(11) \n",
    "                if nn % 2 == 0]\n",
    "print(\"even squares\", even_squares)"
   ]
  },
  {
   "cell_type": "markdown",
   "metadata": {},
   "source": [
    "## List Functions\n",
    "Methods in the `list` type."
   ]
  },
  {
   "cell_type": "markdown",
   "metadata": {},
   "source": [
    "`sort()` and `sorted()`"
   ]
  },
  {
   "cell_type": "code",
   "execution_count": 4,
   "metadata": {},
   "outputs": [
    {
     "name": "stdout",
     "output_type": "stream",
     "text": [
      "ID before xmen.sort(): 140195923590976\n",
      "xmen before xmen.sort(): ['Nightcrawler', 'Cyclops', 'Wolverine', 'Storm']\n",
      "ID after xmen.sort():  140195923590976\n",
      "xmen after xmen.sort() : ['Cyclops', 'Nightcrawler', 'Storm', 'Wolverine']\n"
     ]
    }
   ],
   "source": [
    "xmen=[\"Nightcrawler\", \"Cyclops\", \"Wolverine\", \"Storm\"]\n",
    "print(\"ID before xmen.sort():\", id(xmen))\n",
    "print(\"xmen before xmen.sort():\", xmen)\n",
    "xmen.sort()\n",
    "print(\"ID after xmen.sort(): \", id(xmen))\n",
    "print(\"xmen after xmen.sort() :\", xmen)"
   ]
  },
  {
   "cell_type": "code",
   "execution_count": 38,
   "metadata": {},
   "outputs": [
    {
     "name": "stdout",
     "output_type": "stream",
     "text": [
      "ID before xmen.sort(): 140715349988544\n",
      "xmen before xmen.sort(): ['Nightcrawler', 'Cyclops', 'Wolverine', 'Storm']\n",
      "ID after xmen.sort():  140715349988544\n",
      "xmen after xmen.sort() : ['Cyclops', 'Nightcrawler', 'Storm', 'Wolverine']\n",
      "ID before sorted(avengers): 140715887300416\n",
      "avengers before sorted(avengers): ['Ironman', 'Hulk', 'Hawkeye', 'Thor']\n",
      "ID after sorted(avengers) : 140715074260800\n",
      "avengers after sorted(avengers) : ['Hawkeye', 'Hulk', 'Ironman', 'Thor']\n"
     ]
    }
   ],
   "source": [
    "avengers = [\"Ironman\", \"Hulk\", \"Hawkeye\", \"Thor\"]\n",
    "print(\"ID before sorted(avengers):\", id(avengers))\n",
    "print(\"avengers before sorted(avengers):\", avengers)\n",
    "avengers = sorted(avengers)\n",
    "print(\"ID after sorted(avengers) :\", id(avengers))\n",
    "print(\"avengers after sorted(avengers) :\", avengers)"
   ]
  },
  {
   "cell_type": "code",
   "execution_count": 5,
   "metadata": {},
   "outputs": [
    {
     "data": {
      "text/plain": [
       "[2, 3, 4, 5, 6, 7, 8, 9, 10]"
      ]
     },
     "execution_count": 5,
     "metadata": {},
     "output_type": "execute_result"
    }
   ],
   "source": [
    "sorted(range(10,1,-1))"
   ]
  },
  {
   "cell_type": "markdown",
   "metadata": {},
   "source": [
    "Sorting with a key"
   ]
  },
  {
   "cell_type": "code",
   "execution_count": 14,
   "metadata": {},
   "outputs": [
    {
     "name": "stdout",
     "output_type": "stream",
     "text": [
      "Badly sorted    : ['Hulk', 'Ironman', 'antman']\n"
     ]
    }
   ],
   "source": [
    "avengers = [\"antman\", \"Hulk\", \"Ironman\"]\n",
    "avengers.sort()\n",
    "print(\"Badly sorted    :\", avengers)"
   ]
  },
  {
   "cell_type": "code",
   "execution_count": 15,
   "metadata": {},
   "outputs": [
    {
     "name": "stdout",
     "output_type": "stream",
     "text": [
      "Correctly sorted: ['antman', 'Hulk', 'Ironman']\n"
     ]
    }
   ],
   "source": [
    "avengers = [\"antman\", \"Hulk\", \"Ironman\"]\n",
    "avengers.sort(key=str.lower)\n",
    "print(\"Correctly sorted:\", avengers)"
   ]
  },
  {
   "cell_type": "code",
   "execution_count": null,
   "metadata": {},
   "outputs": [],
   "source": []
  }
 ],
 "metadata": {
  "kernelspec": {
   "display_name": "Python 3",
   "language": "python",
   "name": "python3"
  },
  "language_info": {
   "codemirror_mode": {
    "name": "ipython",
    "version": 3
   },
   "file_extension": ".py",
   "mimetype": "text/x-python",
   "name": "python",
   "nbconvert_exporter": "python",
   "pygments_lexer": "ipython3",
   "version": "3.8.3"
  }
 },
 "nbformat": 4,
 "nbformat_minor": 4
}
