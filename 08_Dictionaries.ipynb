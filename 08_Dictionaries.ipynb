{
 "cells": [
  {
   "cell_type": "markdown",
   "metadata": {},
   "source": [
    "# Dictionaries"
   ]
  },
  {
   "cell_type": "markdown",
   "metadata": {},
   "source": [
    "Easy typing"
   ]
  },
  {
   "cell_type": "code",
   "execution_count": 1,
   "metadata": {},
   "outputs": [
    {
     "name": "stdout",
     "output_type": "stream",
     "text": [
      "example {1: 'one', 'two': 2}\n"
     ]
    }
   ],
   "source": [
    "example = {}\n",
    "example[1] = \"one\"\n",
    "example[\"two\"] = 2\n",
    "print(\"example\", example)"
   ]
  },
  {
   "cell_type": "markdown",
   "metadata": {},
   "source": [
    "\"Two dimensional\""
   ]
  },
  {
   "cell_type": "code",
   "execution_count": 4,
   "metadata": {},
   "outputs": [
    {
     "name": "stdout",
     "output_type": "stream",
     "text": [
      "\"two\" dimensional {0: {0: 'row0 col0', 1: 'row0 col1'}, 1: {0: 'row1 col0', 1: 'row1 col1'}}\n",
      "twodim[1][1]: row1 col1\n"
     ]
    }
   ],
   "source": [
    "twodim = {}\n",
    "for ii in range(2):\n",
    "    twodim[ii] = {}\n",
    "    for jj in range(2):\n",
    "        twodim[ii][jj] = f\"row{ii} col{jj}\"\n",
    "print('\"two\" dimensional', twodim)\n",
    "print(\"twodim[1][1]:\", twodim[1][1])"
   ]
  },
  {
   "cell_type": "markdown",
   "metadata": {},
   "source": [
    "## Creating Dictionaries\n",
    "\n",
    "Three ways\n",
    "\n",
    "Curly braces"
   ]
  },
  {
   "cell_type": "code",
   "execution_count": 6,
   "metadata": {},
   "outputs": [
    {
     "name": "stdout",
     "output_type": "stream",
     "text": [
      "empty  : {}\n",
      "by_numb: {7: 'Beckham', 10: 'Messie', 11: 'Salah'}\n",
      "by_name: {'Beckham': 7, 'Messie': 10, 'Salah': 11}\n"
     ]
    }
   ],
   "source": [
    "empty = {}\n",
    "by_numb = {7:'Beckham',\n",
    "           10:'Messie', 11:'Salah'}\n",
    "by_name = {'Beckham' : 7,\n",
    "           'Messie': 10, 'Salah': 11}\n",
    "print(\"empty  :\", empty)\n",
    "print(\"by_numb:\", by_numb)\n",
    "print(\"by_name:\", by_name)"
   ]
  },
  {
   "cell_type": "markdown",
   "metadata": {},
   "source": [
    "`dict` constructor"
   ]
  },
  {
   "cell_type": "code",
   "execution_count": 7,
   "metadata": {},
   "outputs": [
    {
     "name": "stdout",
     "output_type": "stream",
     "text": [
      "empty  : {}\n",
      "by_numb: {7: 'Beckham', 10: 'Messie', 11: 'Salah'}\n",
      "by_name: {'Beckham': 7, 'Messie': 10, 'Salah': 11}\n"
     ]
    }
   ],
   "source": [
    "empty = dict()\n",
    "by_numb = dict([(7,\"Beckham\"), \n",
    "                (10, \"Messie\"), (11, \"Salah\")])\n",
    "by_name = dict(Beckham=7, Messie=10, Salah=11)\n",
    "print(\"empty  :\", empty)\n",
    "print(\"by_numb:\", by_numb)\n",
    "print(\"by_name:\", by_name)"
   ]
  },
  {
   "cell_type": "markdown",
   "metadata": {},
   "source": [
    "With zip"
   ]
  },
  {
   "cell_type": "code",
   "execution_count": 8,
   "metadata": {},
   "outputs": [
    {
     "name": "stdout",
     "output_type": "stream",
     "text": [
      "by_numb: {7: 'Beckham', 10: 'Messie', 11: 'Salah'}\n"
     ]
    }
   ],
   "source": [
    "by_numb = dict(zip([7,10,11],[\"Beckham\", \n",
    "                              \"Messie\", \"Salah\"]))\n",
    "print(\"by_numb:\", by_numb)"
   ]
  },
  {
   "cell_type": "markdown",
   "metadata": {},
   "source": [
    "Dictionary Comprehensions"
   ]
  },
  {
   "cell_type": "code",
   "execution_count": 10,
   "metadata": {},
   "outputs": [
    {
     "name": "stdout",
     "output_type": "stream",
     "text": [
      "cubes: {0: 0, 1: 1, 2: 8, 3: 27}\n"
     ]
    }
   ],
   "source": [
    "cubes = {ii : ii**3 for ii in range(4)}\n",
    "print(\"cubes:\", cubes)"
   ]
  },
  {
   "cell_type": "markdown",
   "metadata": {},
   "source": [
    "Accessing data"
   ]
  },
  {
   "cell_type": "code",
   "execution_count": 12,
   "metadata": {},
   "outputs": [
    {
     "name": "stdout",
     "output_type": "stream",
     "text": [
      "number 7: Beckham\n"
     ]
    }
   ],
   "source": [
    "by_numb = dict([(7,\"Beckham\"), (10, \"Messie\"), (11, \"Salah\")])\n",
    "print(\"number 7:\", by_numb[7])"
   ]
  },
  {
   "cell_type": "markdown",
   "metadata": {},
   "source": [
    "KeyError"
   ]
  },
  {
   "cell_type": "code",
   "execution_count": 13,
   "metadata": {},
   "outputs": [
    {
     "ename": "KeyError",
     "evalue": "4",
     "output_type": "error",
     "traceback": [
      "\u001b[0;31m---------------------------------------------------------------------------\u001b[0m",
      "\u001b[0;31mKeyError\u001b[0m                                  Traceback (most recent call last)",
      "\u001b[0;32m<ipython-input-13-ca1097bb651e>\u001b[0m in \u001b[0;36m<module>\u001b[0;34m\u001b[0m\n\u001b[1;32m      1\u001b[0m by_numb = dict([ (7,\"Beckham\"), \n\u001b[1;32m      2\u001b[0m                 (10, \"Messie\"), (11, \"Salah\")])\n\u001b[0;32m----> 3\u001b[0;31m \u001b[0mprint\u001b[0m\u001b[0;34m(\u001b[0m\u001b[0;34m\"Number 4?\"\u001b[0m\u001b[0;34m,\u001b[0m \u001b[0mby_numb\u001b[0m\u001b[0;34m[\u001b[0m\u001b[0;36m4\u001b[0m\u001b[0;34m]\u001b[0m\u001b[0;34m)\u001b[0m\u001b[0;34m\u001b[0m\u001b[0;34m\u001b[0m\u001b[0m\n\u001b[0m",
      "\u001b[0;31mKeyError\u001b[0m: 4"
     ]
    }
   ],
   "source": [
    "by_numb = dict([ (7,\"Beckham\"), \n",
    "                (10, \"Messie\"), (11, \"Salah\")])\n",
    "print(\"Number 4?\", by_numb[4])"
   ]
  },
  {
   "cell_type": "markdown",
   "metadata": {},
   "source": [
    "get() method"
   ]
  },
  {
   "cell_type": "code",
   "execution_count": 14,
   "metadata": {},
   "outputs": [
    {
     "name": "stdout",
     "output_type": "stream",
     "text": [
      "Number 4: None\n"
     ]
    }
   ],
   "source": [
    "by_numb = dict([(7,\"Beckham\"), \n",
    "                (10, \"Messie\"), (11, \"Salah\")])\n",
    "print(\"Number 4:\", by_numb.get(4))"
   ]
  },
  {
   "cell_type": "code",
   "execution_count": 15,
   "metadata": {},
   "outputs": [
    {
     "name": "stdout",
     "output_type": "stream",
     "text": [
      "Number 4: Not there\n"
     ]
    }
   ],
   "source": [
    "by_numb = dict([(7,\"Beckham\"), \n",
    "                (10, \"Messie\"), (11, \"Salah\")])\n",
    "print(\"Number 4:\", by_numb.get(4, \"Not there\"))"
   ]
  },
  {
   "cell_type": "markdown",
   "metadata": {},
   "source": [
    "setdefault"
   ]
  },
  {
   "cell_type": "code",
   "execution_count": 17,
   "metadata": {},
   "outputs": [
    {
     "name": "stdout",
     "output_type": "stream",
     "text": [
      "by_numb    : {7: 'Beckham', 10: 'Messie', 11: 'Salah'}\n",
      "Number 32  : Not There\n",
      "new by_numb: {7: 'Beckham', 10: 'Messie', 11: 'Salah', 32: 'Not There'}\n"
     ]
    }
   ],
   "source": [
    "by_numb = dict([(7,\"Beckham\"), \n",
    "                (10, \"Messie\"), (11, \"Salah\")])\n",
    "print(\"by_numb    :\", by_numb)\n",
    "print(\"Number 32  :\", by_numb.setdefault(32, \"Not There\"))\n",
    "print(\"new by_numb:\", by_numb)"
   ]
  },
  {
   "cell_type": "markdown",
   "metadata": {},
   "source": [
    "## Checking for Keys and Values"
   ]
  },
  {
   "cell_type": "code",
   "execution_count": 24,
   "metadata": {
    "scrolled": true
   },
   "outputs": [
    {
     "name": "stdout",
     "output_type": "stream",
     "text": [
      "--Before adding a book--\n",
      "dict_keys(['The Martian'])\n",
      "dict_values(['Weir'])\n",
      "dict_items([('The Martian', 'Weir')])\n",
      "--After adding a book --\n",
      "dict_keys(['The Martian', 'The Hobbit'])\n",
      "dict_values(['Weir', 'Tolkein'])\n",
      "dict_items([('The Martian', 'Weir'), ('The Hobbit', 'Tolkein')])\n"
     ]
    }
   ],
   "source": [
    "library = {\"The Martian\":\"Weir\"}\n",
    "lib_keys = library.keys()\n",
    "lib_values = library.values()\n",
    "lib_items = library.items()\n",
    "print(\"--Before adding a book--\")\n",
    "print(lib_keys)\n",
    "print(lib_values)\n",
    "print(lib_items)\n",
    "library[\"The Hobbit\"] = \"Tolkein\"\n",
    "print(\"--After adding a book --\")\n",
    "print(lib_keys)\n",
    "print(lib_values)\n",
    "print(lib_items)          "
   ]
  },
  {
   "cell_type": "code",
   "execution_count": 19,
   "metadata": {},
   "outputs": [
    {
     "name": "stdout",
     "output_type": "stream",
     "text": [
      "\"Twilight\" in library: False\n",
      "After add: \"Twilight\" in library: True\n"
     ]
    }
   ],
   "source": [
    "library = {\"The Marcian\":\"Weir\", \"The Hobbit\":\"Tolkein\"}\n",
    "print('\"Twilight\" in library:', \"Twilight\" in library)\n",
    "library[\"Twilight\"] = \"Meyer\"\n",
    "print('After add: \"Twilight\" in library:', \"Twilight\" in library)"
   ]
  },
  {
   "cell_type": "markdown",
   "metadata": {},
   "source": [
    "## Looping Through a Dictionary"
   ]
  },
  {
   "cell_type": "code",
   "execution_count": 16,
   "metadata": {},
   "outputs": [
    {
     "name": "stdout",
     "output_type": "stream",
     "text": [
      "Beckham       7\n",
      "Messie       10\n",
      "Salah        11\n"
     ]
    }
   ],
   "source": [
    "by_name = dict(Beckham=7, Messie=10, Salah=11)\n",
    "for name in by_name:\n",
    "    print(f\"{name:10} {by_name[name]:4}\")"
   ]
  },
  {
   "cell_type": "markdown",
   "metadata": {},
   "source": [
    "`items()`"
   ]
  },
  {
   "cell_type": "code",
   "execution_count": 17,
   "metadata": {},
   "outputs": [
    {
     "name": "stdout",
     "output_type": "stream",
     "text": [
      "1**3 = 1\n",
      "2**3 = 8\n",
      "3**3 = 27\n",
      "4**3 = 64\n",
      "5**3 = 125\n"
     ]
    }
   ],
   "source": [
    "cubes = {xx**3: xx for xx in range(1,6)} # make cubed keys\n",
    "for cube, numb in cubes.items():\n",
    "    print(f'{numb}**3 = {cube}')"
   ]
  },
  {
   "cell_type": "code",
   "execution_count": 18,
   "metadata": {},
   "outputs": [],
   "source": [
    "## Copying a Dictionary"
   ]
  },
  {
   "cell_type": "code",
   "execution_count": 19,
   "metadata": {},
   "outputs": [
    {
     "name": "stdout",
     "output_type": "stream",
     "text": [
      "numbs[10] should be 'Messie', not 'Maradona'\n",
      "by_name id: 140398717427904\n",
      "names id:   140398717427904\n"
     ]
    }
   ],
   "source": [
    "by_numb = dict([(7,\"Beckham\"), \n",
    "                (10, \"Messie\"), (11, \"Salah\")])\n",
    "numbs = by_numb\n",
    "by_numb[10] = \"Maradona\"\n",
    "print(f\"numbs[10] should be 'Messie', not '{numbs[10]}'\")\n",
    "print(f\"by_name id: {id(by_numb)}\")\n",
    "print(f\"names id:   {id(numbs)}\")"
   ]
  },
  {
   "cell_type": "markdown",
   "metadata": {},
   "source": [
    "`copy()`"
   ]
  },
  {
   "cell_type": "code",
   "execution_count": 20,
   "metadata": {},
   "outputs": [
    {
     "name": "stdout",
     "output_type": "stream",
     "text": [
      "numbs[10] should be 'Messie', and is 'Messie'\n",
      "by_name id: 140398717527616\n",
      "names id:   140398717428480\n"
     ]
    }
   ],
   "source": [
    "by_numb = dict([(7,\"Beckham\"), \n",
    "                (10, \"Messie\"), (11, \"Salah\")])\n",
    "numbs = by_numb.copy()\n",
    "by_numb[10] = \"Maradona\"\n",
    "print(f\"numbs[10] should be 'Messie', and is '{numbs[10]}'\")\n",
    "print(f\"by_name id: {id(by_numb)}\")\n",
    "print(f\"names id:   {id(numbs)}\")"
   ]
  },
  {
   "cell_type": "markdown",
   "metadata": {},
   "source": [
    "### Deep Copies\n",
    "\n",
    "Unexpected result"
   ]
  },
  {
   "cell_type": "code",
   "execution_count": 25,
   "metadata": {},
   "outputs": [
    {
     "name": "stdout",
     "output_type": "stream",
     "text": [
      " original twodim: {0: {0: 'r0 c0', 1: 'r0 c1'}, 1: {0: 'r1 c0', 1: 'r1 c1'}}\n",
      "corrupted twodim: {0: {0: 'r0 c0', 1: 'r0 c1'}, 1: {0: 'r1 c0', 1: 'R1 C1'}}\n"
     ]
    }
   ],
   "source": [
    "twodim = {}\n",
    "for ii in range(2):\n",
    "    twodim[ii] = {}\n",
    "    for jj in range(2):\n",
    "        twodim[ii][jj] = f\"r{ii} c{jj}\"\n",
    "print(\" original twodim:\", twodim)\n",
    "copy_2d = twodim.copy()\n",
    "copy_2d[1][1] = \"R1 C1\"\n",
    "print(\"corrupted twodim:\", twodim)"
   ]
  },
  {
   "cell_type": "markdown",
   "metadata": {},
   "source": [
    "`deepcopy()`"
   ]
  },
  {
   "cell_type": "code",
   "execution_count": 21,
   "metadata": {},
   "outputs": [
    {
     "name": "stdout",
     "output_type": "stream",
     "text": [
      " original twodim: {0: {0: 'r0 c0', 1: 'r0 c1'}, 1: {0: 'r1 c0', 1: 'r1 c1'}}\n",
      "unchanged twodim: {0: {0: 'r0 c0', 1: 'r0 c1'}, 1: {0: 'r1 c0', 1: 'r1 c1'}}\n"
     ]
    }
   ],
   "source": [
    "import copy # The import\n",
    "twodim = {}\n",
    "for ii in range(2):\n",
    "    twodim[ii] = {}\n",
    "    for jj in range(2):\n",
    "        twodim[ii][jj] = f\"r{ii} c{jj}\"\n",
    "print(\" original twodim:\",twodim)\n",
    "copy_2d = copy.deepcopy(twodim) #DEEP COPY!\n",
    "copy_2d[1][1] = \"R1 C1\"\n",
    "print(\"unchanged twodim:\", twodim)"
   ]
  },
  {
   "cell_type": "markdown",
   "metadata": {},
   "source": [
    "## Removing Items from a Dictionary\n",
    "\n",
    "`clear()`"
   ]
  },
  {
   "cell_type": "code",
   "execution_count": 22,
   "metadata": {},
   "outputs": [
    {
     "name": "stdout",
     "output_type": "stream",
     "text": [
      "original by_numb: {7: 'Beckham', 10: 'Messie', 11: 'Salah'}\n",
      " cleared by_numb: {}\n"
     ]
    }
   ],
   "source": [
    "by_numb = dict([(7,\"Beckham\"), \n",
    "                (10, \"Messie\"), (11, \"Salah\")])\n",
    "print(\"original by_numb:\", by_numb)\n",
    "by_numb.clear()\n",
    "print(\" cleared by_numb:\", by_numb)"
   ]
  },
  {
   "cell_type": "markdown",
   "metadata": {},
   "source": [
    "`del()`"
   ]
  },
  {
   "cell_type": "code",
   "execution_count": 24,
   "metadata": {},
   "outputs": [
    {
     "name": "stdout",
     "output_type": "stream",
     "text": [
      "by_numb sans 7: {10: 'Messie', 11: 'Salah'}\n"
     ]
    }
   ],
   "source": [
    "by_numb = dict([(7,\"Beckham\"), \n",
    "                (10, \"Messie\"), (11, \"Salah\")])\n",
    "del(by_numb[7]) #retired\n",
    "print(\"by_numb sans 7:\", by_numb)"
   ]
  },
  {
   "cell_type": "markdown",
   "metadata": {},
   "source": [
    "`pop()`"
   ]
  },
  {
   "cell_type": "code",
   "execution_count": 27,
   "metadata": {},
   "outputs": [
    {
     "name": "stdout",
     "output_type": "stream",
     "text": [
      "orig by_numb: {7: 'Beckham', 10: 'Messie', 11: 'Salah'}\n",
      "     pop #10: Messie\n",
      " new by_numb: {7: 'Beckham', 11: 'Salah'}\n"
     ]
    }
   ],
   "source": [
    "by_numb = dict([(7,\"Beckham\"), \n",
    "                (10, \"Messie\"), (11, \"Salah\")])\n",
    "print(\"orig by_numb:\", by_numb)\n",
    "print(\"     pop #10:\", by_numb.pop(10))\n",
    "print(\" new by_numb:\", by_numb)"
   ]
  },
  {
   "cell_type": "markdown",
   "metadata": {},
   "source": [
    "`popitem()`"
   ]
  },
  {
   "cell_type": "code",
   "execution_count": 35,
   "metadata": {},
   "outputs": [
    {
     "name": "stdout",
     "output_type": "stream",
     "text": [
      "nn before popitems: {1: 'first in', 2: 'middle', 3: 'last in'}\n",
      "            popped: (3, 'last in')\n",
      "            popped: (2, 'middle')\n",
      "            popped: (1, 'first in')\n",
      " nn after popitems: {}\n"
     ]
    }
   ],
   "source": [
    "nn = {}\n",
    "nn[1] = \"first in\"\n",
    "nn[2] = \"middle\"\n",
    "nn[3] = \"last in\"\n",
    "print(\"nn before popitems:\", nn)\n",
    "for _ in range(len(nn)):\n",
    "    print(\"            popped:\", nn.popitem())\n",
    "print(\" nn after popitems:\", nn)"
   ]
  },
  {
   "cell_type": "code",
   "execution_count": null,
   "metadata": {},
   "outputs": [],
   "source": []
  }
 ],
 "metadata": {
  "kernelspec": {
   "display_name": "Python 3",
   "language": "python",
   "name": "python3"
  },
  "language_info": {
   "codemirror_mode": {
    "name": "ipython",
    "version": 3
   },
   "file_extension": ".py",
   "mimetype": "text/x-python",
   "name": "python",
   "nbconvert_exporter": "python",
   "pygments_lexer": "ipython3",
   "version": "3.8.3"
  }
 },
 "nbformat": 4,
 "nbformat_minor": 4
}
