{
 "cells": [
  {
   "cell_type": "markdown",
   "metadata": {},
   "source": [
    "# UVM Environment"
   ]
  },
  {
   "cell_type": "code",
   "execution_count": 1,
   "metadata": {},
   "outputs": [
    {
     "name": "stderr",
     "output_type": "stream",
     "text": [
      "INFO: <ipython-input-1-888455316edf>(45)[uvm_test_top.env]: PASSED: e8 AND 4a = 0048\n",
      "INFO: <ipython-input-1-888455316edf>(45)[uvm_test_top.env]: PASSED: 7f XOR 8f = 00f0\n",
      "INFO: <ipython-input-1-888455316edf>(45)[uvm_test_top.env]: PASSED: 54 AND 29 = 0000\n",
      "ERROR: <ipython-input-1-888455316edf>(32)[uvm_test_top.env]: Functional coverage error. Missed: {<Ops.ADD: 1>, <Ops.MUL: 4>}\n"
     ]
    }
   ],
   "source": [
    "from pyuvm import *\n",
    "from proxy_pkg import *\n",
    "import random\n",
    "\n",
    "class BaseEnv(uvm_env):\n",
    "    @staticmethod\n",
    "    def alu_op(A, B, op, is_dut = False):\n",
    "        \"\"\"Python model of the TinyALU\"\"\"\n",
    "        assert isinstance(op, Ops), \"The tinyalu op must be of type ops\"\n",
    "        if op == Ops.ADD:\n",
    "            result = A + B\n",
    "        elif op == Ops.AND:\n",
    "            result = A & B\n",
    "        elif op == Ops.XOR:\n",
    "            result = A ^ B\n",
    "        elif op == Ops.MUL:\n",
    "            result = A * B\n",
    "        if is_dut:\n",
    "            time.sleep(0.1)\n",
    "            if (random.randint(0,3) == 0):\n",
    "                result = result + 1\n",
    "        return result\n",
    "\n",
    "    def end_of_elaboration_phase(self):\n",
    "        self.cvg = set()\n",
    "        \n",
    "    def extract_phase(self):\n",
    "        self.missed_ops = set(Ops) - self.cvg\n",
    "    \n",
    "    def check_phase(self):\n",
    "        if len(self.missed_ops) > 0:\n",
    "            self.logger.error(f\"Functional coverage error. Missed: {set(Ops)-self.cvg}\")\n",
    "\n",
    "class RandomEnv(BaseEnv):\n",
    "    def run_phase(self):\n",
    "        self.raise_objection() \n",
    "        for _ in range(3):\n",
    "            A = random.randrange(256)\n",
    "            B = random.randrange(256)\n",
    "            op = random.choice(list(Ops))\n",
    "            self.cvg.add(op)\n",
    "            predicted_result = self.alu_op(A, B, op)\n",
    "            actual_result = self.alu_op(A, B, op, is_dut=True)\n",
    "            if predicted_result == actual_result:\n",
    "                self.logger.info( f\"PASSED: {A:02x} {op.name} {B:02x} = {actual_result:04x}\")\n",
    "            else:\n",
    "                self.logger.error(f\"FAILED: {A:02x} {op.name} {B:02x} = {actual_result:04x} expected {predicted_result:04x}\")\n",
    "        self.drop_objection()  ## drop the objection to end\n",
    "\n",
    "class MaxEnv(BaseEnv):\n",
    "    def run_phase(self):\n",
    "        self.raise_objection()\n",
    "        A = 0xFF\n",
    "        B = 0xFF\n",
    "        for op in list(Ops):\n",
    "            self.cvg.add(op)\n",
    "            predicted_result = self.alu_op(A, B, op)\n",
    "            actual_result = self.alu_op(A, B, op, is_dut=True)\n",
    "            if predicted_result == actual_result:\n",
    "                self.logger.info( f\"PASSED: {A:02x} {op.name} {B:02x} = {actual_result:04x}\")\n",
    "            else:\n",
    "                self.logger.error(f\"FAILED: {A:02x} {op.name} {B:02x} = {actual_result:04x} expected {predicted_result:04x}\")\n",
    "        self.drop_objection()\n",
    "\n",
    "class RandomTest(uvm_test):\n",
    "    def build_phase(self):\n",
    "        self.env = RandomEnv(\"env\", self)\n",
    "\n",
    "class MaxTest(uvm_test):\n",
    "    def build_phase(self):\n",
    "        self.env = MaxEnv(\"env\", self)\n",
    "\n",
    "# Be sure to restart the notebook between trying the two kinds of tests\n",
    "uvm_root().run_test(\"RandomTest\")\n"
   ]
  },
  {
   "cell_type": "code",
   "execution_count": null,
   "metadata": {},
   "outputs": [],
   "source": []
  }
 ],
 "metadata": {
  "kernelspec": {
   "display_name": "Python 3",
   "language": "python",
   "name": "python3"
  },
  "language_info": {
   "codemirror_mode": {
    "name": "ipython",
    "version": 3
   },
   "file_extension": ".py",
   "mimetype": "text/x-python",
   "name": "python",
   "nbconvert_exporter": "python",
   "pygments_lexer": "ipython3",
   "version": "3.8.3"
  }
 },
 "nbformat": 4,
 "nbformat_minor": 4
}
