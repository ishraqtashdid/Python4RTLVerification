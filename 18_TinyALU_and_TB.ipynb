{
 "cells": [
  {
   "cell_type": "markdown",
   "metadata": {},
   "source": [
    "# The TinyALU Model and Initial Testbench"
   ]
  },
  {
   "cell_type": "markdown",
   "metadata": {},
   "source": [
    "## TinyALU Operations"
   ]
  },
  {
   "cell_type": "code",
   "execution_count": 1,
   "metadata": {},
   "outputs": [
    {
     "name": "stdout",
     "output_type": "stream",
     "text": [
      "True\n"
     ]
    }
   ],
   "source": [
    "import enum\n",
    "\n",
    "@enum.unique\n",
    "class Ops(enum.IntEnum):\n",
    "    \"\"\"Legal ops for the TinyALU\"\"\"\n",
    "    ADD = 1\n",
    "    AND = 2\n",
    "    XOR = 3\n",
    "    MUL = 4\n",
    "\n",
    "print(Ops.AND == 2)"
   ]
  },
  {
   "cell_type": "markdown",
   "metadata": {},
   "source": [
    "## The Simplest TinyALU TLM Model"
   ]
  },
  {
   "cell_type": "code",
   "execution_count": 2,
   "metadata": {},
   "outputs": [
    {
     "name": "stdout",
     "output_type": "stream",
     "text": [
      "5 + 8 = 13\n",
      "0xF0 & 0xFF = 0xf0\n",
      "0x5 ^ 0xA = 0x0f\n",
      "10 * 10 = 100\n"
     ]
    }
   ],
   "source": [
    "import enum\n",
    "\n",
    "@enum.unique\n",
    "class Ops(enum.IntEnum):\n",
    "    \"\"\"Legal ops for the TinyALU\"\"\"\n",
    "    ADD = 1\n",
    "    AND = 2\n",
    "    XOR = 3\n",
    "    MUL = 4\n",
    "\n",
    "import time\n",
    "\n",
    "def alu_op(A, B, op):\n",
    "    \"\"\"Python model of the TinyALU\"\"\"\n",
    "    assert isinstance(op, Ops), \"The tinyalu op must be of type ops\"\n",
    "    if op == Ops.ADD:\n",
    "        result = A + B\n",
    "    elif op == Ops.AND:\n",
    "        result = A & B\n",
    "    elif op == Ops.XOR:\n",
    "        result = A ^ B\n",
    "    elif op == Ops.MUL:\n",
    "        result = A * B\n",
    "    time.sleep(0.1)\n",
    "    return result\n",
    "\n",
    "print(f\"5 + 8 = {alu_op(5,8,Ops.ADD)}\")\n",
    "print(f\"0xF0 & 0xFF = 0x{alu_op(0xF0, 0xFF, Ops.AND):02x}\")\n",
    "print(f\"0x5 ^ 0xA = 0x{alu_op(5,0xA, Ops.XOR):02x}\")\n",
    "print(f\"10 * 10 = {alu_op(10, 10, Ops.MUL)}\")"
   ]
  },
  {
   "cell_type": "markdown",
   "metadata": {},
   "source": [
    "## A Simple Constrained Random Testbench\n",
    "\n",
    "Add an error into the TinyALU Model and test the testbench."
   ]
  },
  {
   "cell_type": "code",
   "execution_count": 8,
   "metadata": {},
   "outputs": [
    {
     "name": "stderr",
     "output_type": "stream",
     "text": [
      "ERROR:root:FAILED: b3 AND 6e = 0023 expected 0022\n",
      "INFO:root:PASSED:  c8 ADD e4 = 01ac\n",
      "INFO:root:PASSED:  73 ADD 0b = 007e\n",
      "ERROR:root:Functional coverage error. Missed: {<Ops.XOR: 3>, <Ops.MUL: 4>}\n"
     ]
    }
   ],
   "source": [
    "import enum\n",
    "\n",
    "@enum.unique\n",
    "class Ops(enum.IntEnum):\n",
    "    \"\"\"Legal ops for the TinyALU\"\"\"\n",
    "    ADD = 1\n",
    "    AND = 2\n",
    "    XOR = 3\n",
    "    MUL = 4\n",
    "\n",
    "import time\n",
    "import random\n",
    "\n",
    "def alu_op(A, B, op, error = False):\n",
    "    \"\"\"Python model of the TinyALU\"\"\"\n",
    "    assert isinstance(op, Ops), \"The tinyalu op must be of type ops\"\n",
    "    if op == Ops.ADD:\n",
    "        result = A + B\n",
    "    elif op == Ops.AND:\n",
    "        result = A & B\n",
    "    elif op == Ops.XOR:\n",
    "        result = A ^ B\n",
    "    elif op == Ops.MUL:\n",
    "        result = A * B\n",
    "    time.sleep(0.1)\n",
    "    if error and (random.randint(0,3) == 0):\n",
    "        result = result + 1\n",
    "    return result\n",
    "\n",
    "import logging\n",
    "logging.basicConfig(level=logging.NOTSET)\n",
    "logger = logging.getLogger()\n",
    "cvg = set() #functional coverage\n",
    "for _ in range(3):\n",
    "    A = random.randrange(256)\n",
    "    B = random.randrange(256)\n",
    "    op = random.choice(list(Ops))\n",
    "    cvg.add(op)\n",
    "    predicted_result = alu_op(A, B, op)\n",
    "    actual_result = alu_op(A, B, op, error=True)\n",
    "    if predicted_result == actual_result:\n",
    "        logger.info (f\"PASSED:  {A:02x} {op.name} {B:02x} = {actual_result:04x}\")\n",
    "    else:\n",
    "        logger.error (f\"FAILED: {A:02x} {op.name} {B:02x} = {actual_result:04x} expected {predicted_result:04x}\")\n",
    "if len(set(Ops) - cvg) > 0:\n",
    "   logger.error(f\"Functional coverage error. Missed: {set(Ops)-cvg}\")"
   ]
  },
  {
   "cell_type": "code",
   "execution_count": null,
   "metadata": {},
   "outputs": [],
   "source": []
  },
  {
   "cell_type": "code",
   "execution_count": null,
   "metadata": {},
   "outputs": [],
   "source": []
  }
 ],
 "metadata": {
  "kernelspec": {
   "display_name": "Python 3",
   "language": "python",
   "name": "python3"
  },
  "language_info": {
   "codemirror_mode": {
    "name": "ipython",
    "version": 3
   },
   "file_extension": ".py",
   "mimetype": "text/x-python",
   "name": "python",
   "nbconvert_exporter": "python",
   "pygments_lexer": "ipython3",
   "version": "3.8.3"
  }
 },
 "nbformat": 4,
 "nbformat_minor": 4
}
