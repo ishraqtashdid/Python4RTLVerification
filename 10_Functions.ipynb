{
 "cells": [
  {
   "cell_type": "markdown",
   "metadata": {},
   "source": [
    "# Functions"
   ]
  },
  {
   "cell_type": "code",
   "execution_count": 2,
   "metadata": {},
   "outputs": [
    {
     "name": "stdout",
     "output_type": "stream",
     "text": [
      "      yy before: 10\n",
      "Function return: None\n",
      "       yy After: 10\n"
     ]
    }
   ],
   "source": [
    "def try_to_change(xx):\n",
    "    xx == 5\n",
    "    \n",
    "yy = 10\n",
    "print(\"      yy before:\", yy)\n",
    "print(\"Function return:\", try_to_change(yy))\n",
    "print(\"       yy After:\", yy)"
   ]
  },
  {
   "cell_type": "markdown",
   "metadata": {},
   "source": [
    "## Defining Functions\n",
    "\n",
    "```\n",
    "def <function_name>([optional arguments]):\n",
    "  <statement>\n",
    "  <statement>\n",
    "```\n",
    "\n",
    "### Functions as Objects"
   ]
  },
  {
   "cell_type": "code",
   "execution_count": 21,
   "metadata": {},
   "outputs": [
    {
     "name": "stdout",
     "output_type": "stream",
     "text": [
      "type(bb):  <class 'function'>\n",
      "Ayy!\n"
     ]
    }
   ],
   "source": [
    "def aa():\n",
    "    print(\"Ayy!\")\n",
    "\n",
    "bb = aa\n",
    "print(\"type(bb): \", type(bb))\n",
    "\n",
    "bb()"
   ]
  },
  {
   "cell_type": "code",
   "execution_count": 18,
   "metadata": {},
   "outputs": [
    {
     "name": "stdout",
     "output_type": "stream",
     "text": [
      "When Mr of Bag End "
     ]
    }
   ],
   "source": [
    "words = \"When Mr Bilbo Baggins of Bag End announced\".split()\n",
    "\n",
    "def short_words_only(word):\n",
    "    return len(word) < 5\n",
    "\n",
    "for sw in filter(short_words_only, words):\n",
    "    print(sw, end = \" \")"
   ]
  },
  {
   "cell_type": "markdown",
   "metadata": {},
   "source": [
    "## Arguments"
   ]
  },
  {
   "cell_type": "markdown",
   "metadata": {},
   "source": [
    "## Defining Arguments"
   ]
  },
  {
   "cell_type": "code",
   "execution_count": 3,
   "metadata": {},
   "outputs": [
    {
     "name": "stdout",
     "output_type": "stream",
     "text": [
      "(5+1)%3: 0\n"
     ]
    }
   ],
   "source": [
    "def inc_mod_3(xx):\n",
    "    return (xx+1)%3\n",
    "\n",
    "print(\"(5+1)%3:\", inc_mod_3(5))"
   ]
  },
  {
   "cell_type": "code",
   "execution_count": 25,
   "metadata": {
    "scrolled": true
   },
   "outputs": [
    {
     "ename": "TypeError",
     "evalue": "inc_mod_3() missing 1 required positional argument: 'xx'",
     "output_type": "error",
     "traceback": [
      "\u001b[0;31m---------------------------------------------------------------------------\u001b[0m",
      "\u001b[0;31mTypeError\u001b[0m                                 Traceback (most recent call last)",
      "\u001b[0;32m<ipython-input-25-0c3e01a2dc5c>\u001b[0m in \u001b[0;36m<module>\u001b[0;34m\u001b[0m\n\u001b[1;32m      2\u001b[0m     \u001b[0;32mreturn\u001b[0m \u001b[0;34m(\u001b[0m\u001b[0mxx\u001b[0m\u001b[0;34m+\u001b[0m\u001b[0;36m1\u001b[0m\u001b[0;34m)\u001b[0m\u001b[0;34m%\u001b[0m\u001b[0;36m3\u001b[0m\u001b[0;34m\u001b[0m\u001b[0;34m\u001b[0m\u001b[0m\n\u001b[1;32m      3\u001b[0m \u001b[0;34m\u001b[0m\u001b[0m\n\u001b[0;32m----> 4\u001b[0;31m \u001b[0mprint\u001b[0m\u001b[0;34m(\u001b[0m\u001b[0minc_mod_3\u001b[0m\u001b[0;34m(\u001b[0m\u001b[0;34m)\u001b[0m\u001b[0;34m)\u001b[0m\u001b[0;34m\u001b[0m\u001b[0;34m\u001b[0m\u001b[0m\n\u001b[0m",
      "\u001b[0;31mTypeError\u001b[0m: inc_mod_3() missing 1 required positional argument: 'xx'"
     ]
    }
   ],
   "source": [
    "def inc_mod_3(xx):\n",
    "    return (xx+1)%3\n",
    "\n",
    "print(inc_mod_3())"
   ]
  },
  {
   "cell_type": "code",
   "execution_count": 4,
   "metadata": {
    "scrolled": true
   },
   "outputs": [
    {
     "name": "stdout",
     "output_type": "stream",
     "text": [
      "default (0+1)%3: 1\n"
     ]
    }
   ],
   "source": [
    "def inc_mod_3(xx=0):\n",
    "    return (xx+1)%3\n",
    "\n",
    "print(\"default (0+1)%3:\", inc_mod_3())"
   ]
  },
  {
   "cell_type": "code",
   "execution_count": 5,
   "metadata": {},
   "outputs": [
    {
     "name": "stdout",
     "output_type": "stream",
     "text": [
      "2**3: 8\n"
     ]
    }
   ],
   "source": [
    "def my_power(base, exponent):\n",
    "    return base**exponent\n",
    "print(\"2**3:\",my_power(2,3))"
   ]
  },
  {
   "cell_type": "code",
   "execution_count": 6,
   "metadata": {},
   "outputs": [
    {
     "name": "stdout",
     "output_type": "stream",
     "text": [
      "2**0: 1\n"
     ]
    }
   ],
   "source": [
    "def my_power(base, exponent=0):\n",
    "    return base**exponent\n",
    "print(\"2**0:\",my_power(2))"
   ]
  },
  {
   "cell_type": "code",
   "execution_count": 7,
   "metadata": {},
   "outputs": [
    {
     "ename": "SyntaxError",
     "evalue": "non-default argument follows default argument (<ipython-input-7-5edfddcfdcf1>, line 1)",
     "output_type": "error",
     "traceback": [
      "\u001b[0;36m  File \u001b[0;32m\"<ipython-input-7-5edfddcfdcf1>\"\u001b[0;36m, line \u001b[0;32m1\u001b[0m\n\u001b[0;31m    def my_power(base=0, exponent):\u001b[0m\n\u001b[0m                 ^\u001b[0m\n\u001b[0;31mSyntaxError\u001b[0m\u001b[0;31m:\u001b[0m non-default argument follows default argument\n"
     ]
    }
   ],
   "source": [
    "def my_power(base=0, exponent):\n",
    "    return base**exponent\n",
    "print(\"0**2:\",my_power(2))"
   ]
  },
  {
   "cell_type": "code",
   "execution_count": 8,
   "metadata": {},
   "outputs": [
    {
     "name": "stdout",
     "output_type": "stream",
     "text": [
      "0**0: 1\n"
     ]
    }
   ],
   "source": [
    "def my_power(base=0, exponent=0):\n",
    "    return base**exponent\n",
    "print(\"0**0:\",my_power(2))"
   ]
  },
  {
   "cell_type": "markdown",
   "metadata": {},
   "source": [
    "## Calling Functions with Arguments"
   ]
  },
  {
   "cell_type": "code",
   "execution_count": 40,
   "metadata": {
    "scrolled": true
   },
   "outputs": [
    {
     "name": "stdout",
     "output_type": "stream",
     "text": [
      "positional:   1.73\n",
      "keyword args: 1.73\n"
     ]
    }
   ],
   "source": [
    "import math\n",
    "def vec_length(x,y,z):\n",
    "    return math.sqrt(x**2 + y**2 + z**2)\n",
    "\n",
    "print(f\"positional:   {vec_length(1,1,1):.2f}\")\n",
    "print(f\"keyword args: {vec_length(x=1, y=1, z=1):.2f}\")\n"
   ]
  },
  {
   "cell_type": "code",
   "execution_count": 44,
   "metadata": {
    "scrolled": true
   },
   "outputs": [
    {
     "ename": "SyntaxError",
     "evalue": "positional argument follows keyword argument (<fstring>, line 5)",
     "output_type": "error",
     "traceback": [
      "\u001b[0;36m  File \u001b[0;32m\"<fstring>\"\u001b[0;36m, line \u001b[0;32m5\u001b[0m\n\u001b[0;31mSyntaxError\u001b[0m\u001b[0;31m:\u001b[0m positional argument follows keyword argument\n"
     ]
    }
   ],
   "source": [
    "import math\n",
    "def vec_length(x,y,z):\n",
    "    return math.sqrt(x**2 + y**2 + z**2)\n",
    "\n",
    "print(f\"{vec_length(y=1, 2, 3):.2f}\")\n"
   ]
  },
  {
   "cell_type": "markdown",
   "metadata": {},
   "source": [
    "## Defining Variable Numbers of Arguments"
   ]
  },
  {
   "cell_type": "code",
   "execution_count": 4,
   "metadata": {},
   "outputs": [
    {
     "name": "stdout",
     "output_type": "stream",
     "text": [
      "Length (1,1,1): 1.73\n",
      "Length (1,1,1,1): 2.00\n"
     ]
    }
   ],
   "source": [
    "import math\n",
    "def vec_length(point):\n",
    "    sqr_sum = 0\n",
    "    for pp in point:\n",
    "        sqr_sum += pp**2\n",
    "    return math.sqrt(sqr_sum)\n",
    "\n",
    "print(f\"Length (1,1,1): {vec_length((1,1,1)):.2f}\")\n",
    "print(f\"Length (1,1,1,1): {vec_length((1,1,1,1)):.2f}\")"
   ]
  },
  {
   "cell_type": "markdown",
   "metadata": {},
   "source": [
    "### The Unpacking Operator"
   ]
  },
  {
   "cell_type": "code",
   "execution_count": 9,
   "metadata": {},
   "outputs": [
    {
     "name": "stdout",
     "output_type": "stream",
     "text": [
      "tuple values: 1 2 3\n"
     ]
    }
   ],
   "source": [
    "aa, bb, cc, = (1, 2, 3)\n",
    "print(\"tuple values:\", aa, bb, cc)"
   ]
  },
  {
   "cell_type": "code",
   "execution_count": 90,
   "metadata": {
    "scrolled": true
   },
   "outputs": [
    {
     "ename": "ValueError",
     "evalue": "too many values to unpack (expected 3)",
     "output_type": "error",
     "traceback": [
      "\u001b[0;31m---------------------------------------------------------------------------\u001b[0m",
      "\u001b[0;31mValueError\u001b[0m                                Traceback (most recent call last)",
      "\u001b[0;32m<ipython-input-90-2e3726430f6b>\u001b[0m in \u001b[0;36m<module>\u001b[0;34m\u001b[0m\n\u001b[0;32m----> 1\u001b[0;31m \u001b[0maa\u001b[0m\u001b[0;34m,\u001b[0m \u001b[0mbb\u001b[0m\u001b[0;34m,\u001b[0m \u001b[0mcc\u001b[0m \u001b[0;34m=\u001b[0m \u001b[0;34m(\u001b[0m\u001b[0;36m1\u001b[0m\u001b[0;34m,\u001b[0m \u001b[0;36m2\u001b[0m\u001b[0;34m,\u001b[0m \u001b[0;36m3\u001b[0m\u001b[0;34m,\u001b[0m \u001b[0;36m4\u001b[0m\u001b[0;34m,\u001b[0m \u001b[0;36m5\u001b[0m\u001b[0;34m)\u001b[0m\u001b[0;34m\u001b[0m\u001b[0;34m\u001b[0m\u001b[0m\n\u001b[0m",
      "\u001b[0;31mValueError\u001b[0m: too many values to unpack (expected 3)"
     ]
    }
   ],
   "source": [
    "aa, bb, cc = (1, 2, 3, 4, 5)"
   ]
  },
  {
   "cell_type": "code",
   "execution_count": 10,
   "metadata": {
    "scrolled": true
   },
   "outputs": [
    {
     "name": "stdout",
     "output_type": "stream",
     "text": [
      " tuple values: 1 2 3\n",
      "leftover junk: [4, 5]\n"
     ]
    }
   ],
   "source": [
    "aa, bb, cc, *junk = (1, 2, 3, 4, 5)\n",
    "print(\" tuple values:\", aa, bb, cc)\n",
    "print(\"leftover junk:\", junk)"
   ]
  },
  {
   "cell_type": "code",
   "execution_count": 13,
   "metadata": {},
   "outputs": [
    {
     "name": "stdout",
     "output_type": "stream",
     "text": [
      "Length 1,1,1: 1.73\n",
      "Length 1,1,1,1: 2.00\n"
     ]
    }
   ],
   "source": [
    "import math\n",
    "def vec_length(*args):\n",
    "    sqr_sum = 0\n",
    "    for pp in args:\n",
    "        sqr_sum += pp**2\n",
    "    return math.sqrt(sqr_sum)\n",
    "\n",
    "print(f\"Length 1,1,1: {vec_length(1,1,1):.2f}\")\n",
    "print(f\"Length 1,1,1,1: {vec_length(1,1,1,1):.2f}\")"
   ]
  },
  {
   "cell_type": "markdown",
   "metadata": {},
   "source": [
    "### The Dictionary Unpacking Operator"
   ]
  },
  {
   "cell_type": "code",
   "execution_count": 11,
   "metadata": {},
   "outputs": [
    {
     "name": "stdout",
     "output_type": "stream",
     "text": [
      "dd: {'one': 1, 'two': 2, 'three': 3}\n"
     ]
    },
    {
     "ename": "TypeError",
     "evalue": "'one' is an invalid keyword argument for print()",
     "output_type": "error",
     "traceback": [
      "\u001b[0;31m---------------------------------------------------------------------------\u001b[0m",
      "\u001b[0;31mTypeError\u001b[0m                                 Traceback (most recent call last)",
      "\u001b[0;32m<ipython-input-11-2eba918ae8d2>\u001b[0m in \u001b[0;36m<module>\u001b[0;34m\u001b[0m\n\u001b[1;32m      1\u001b[0m \u001b[0mdd\u001b[0m \u001b[0;34m=\u001b[0m \u001b[0mdict\u001b[0m\u001b[0;34m(\u001b[0m\u001b[0mone\u001b[0m\u001b[0;34m=\u001b[0m\u001b[0;36m1\u001b[0m\u001b[0;34m,\u001b[0m \u001b[0mtwo\u001b[0m\u001b[0;34m=\u001b[0m\u001b[0;36m2\u001b[0m\u001b[0;34m,\u001b[0m \u001b[0mthree\u001b[0m\u001b[0;34m=\u001b[0m\u001b[0;36m3\u001b[0m\u001b[0;34m)\u001b[0m\u001b[0;34m\u001b[0m\u001b[0;34m\u001b[0m\u001b[0m\n\u001b[1;32m      2\u001b[0m \u001b[0mprint\u001b[0m\u001b[0;34m(\u001b[0m\u001b[0;34m\"dd:\"\u001b[0m\u001b[0;34m,\u001b[0m\u001b[0mdd\u001b[0m\u001b[0;34m)\u001b[0m\u001b[0;34m\u001b[0m\u001b[0;34m\u001b[0m\u001b[0m\n\u001b[0;32m----> 3\u001b[0;31m \u001b[0mprint\u001b[0m\u001b[0;34m(\u001b[0m\u001b[0;34m**\u001b[0m\u001b[0mdd\u001b[0m\u001b[0;34m)\u001b[0m\u001b[0;34m\u001b[0m\u001b[0;34m\u001b[0m\u001b[0m\n\u001b[0m",
      "\u001b[0;31mTypeError\u001b[0m: 'one' is an invalid keyword argument for print()"
     ]
    }
   ],
   "source": [
    "dd = dict(one=1, two=2, three=3)\n",
    "print(\"dd:\",dd)\n"
   ]
  },
  {
   "cell_type": "code",
   "execution_count": 20,
   "metadata": {},
   "outputs": [
    {
     "name": "stdout",
     "output_type": "stream",
     "text": [
      "name:  Babe Ruth\n"
     ]
    }
   ],
   "source": [
    "name = dict(first_name=\"Babe\", last_name=\"Ruth\")\n",
    "\n",
    "def print_name(first_name, last_name):\n",
    "     print(\"name: \", first_name, last_name)\n",
    "    \n",
    "print_name(**name)"
   ]
  },
  {
   "cell_type": "code",
   "execution_count": 6,
   "metadata": {},
   "outputs": [
    {
     "name": "stdout",
     "output_type": "stream",
     "text": [
      "     Name: George \n",
      "Full name: George  \n",
      "Nick name: Babe\n"
     ]
    }
   ],
   "source": [
    "def print_name(**kwargs):\n",
    "    print(f'     Name: {kwargs.get(\"first_name\",\"\")} {kwargs.get(\"last_name\",\"\")}')\n",
    "    print(f'Full name: {kwargs.get(\"first_name\",\"\")} {kwargs.get(\"middle_name\",\"\")} {kwargs.get(\"last_name\",\"\")}')\n",
    "    print(f'Nick name: {kwargs.get(\"nick_name\",\"\")}')\n",
    "print_name(first_name=\"George\", nick_name=\"Babe\")"
   ]
  },
  {
   "cell_type": "markdown",
   "metadata": {},
   "source": [
    "### Creating a Function with Variable Arguments"
   ]
  },
  {
   "cell_type": "code",
   "execution_count": 15,
   "metadata": {},
   "outputs": [
    {
     "name": "stdout",
     "output_type": "stream",
     "text": [
      "three: 1.73 cm\n",
      "four : 2.00 cm\n",
      "five : 2.24 ft\n"
     ]
    }
   ],
   "source": [
    "import math\n",
    "def print_vec_length(*args, **kwargs):\n",
    "    sqr_sum = 0\n",
    "    for pp in args:\n",
    "        sqr_sum += pp**2\n",
    "    len = math.sqrt(sqr_sum)\n",
    "    label = kwargs.get(\"label\", \"\")\n",
    "    units = kwargs.get(\"units\", 'cm')\n",
    "    print(f'{label} {len:2.2f} {units}')\n",
    "\n",
    "print_vec_length(1,1,1, label=\"three:\")\n",
    "print_vec_length(1,1,1,1,label=\"four :\")\n",
    "print_vec_length(1,1,1,1,1, label=\"five :\", units=\"ft\")"
   ]
  },
  {
   "cell_type": "markdown",
   "metadata": {},
   "source": [
    "## Documentation Strings"
   ]
  },
  {
   "cell_type": "code",
   "execution_count": 110,
   "metadata": {},
   "outputs": [
    {
     "name": "stdout",
     "output_type": "stream",
     "text": [
      "Help on function print_hello_world in module __main__:\n",
      "\n",
      "print_hello_world()\n",
      "    It does what you think it does\n",
      "\n"
     ]
    }
   ],
   "source": [
    "def print_hello_world():\n",
    "    \"\"\"It does what you think it does\"\"\"\n",
    "    print(\"Hello, world.\")\n",
    "\n",
    "help(print_hello_world)"
   ]
  },
  {
   "cell_type": "code",
   "execution_count": 16,
   "metadata": {},
   "outputs": [
    {
     "name": "stdout",
     "output_type": "stream",
     "text": [
      "Help on function my_power in module __main__:\n",
      "\n",
      "my_power(base, exponent)\n",
      "    Raises the base to the exponent\n",
      "    \n",
      "    :param base: The base number\n",
      "    :param exponent: The exponent\n",
      "    :return: base raised to exponent\n",
      "\n"
     ]
    }
   ],
   "source": [
    "def my_power(base, exponent):\n",
    "    \"\"\"\n",
    "    Raises the base to the exponent\n",
    "    \n",
    "    :param base: The base number\n",
    "    :param exponent: The exponent\n",
    "    :return: base raised to exponent\n",
    "    \"\"\"\n",
    "    return base**exponent\n",
    "\n",
    "help(my_power)"
   ]
  },
  {
   "cell_type": "code",
   "execution_count": null,
   "metadata": {},
   "outputs": [],
   "source": []
  }
 ],
 "metadata": {
  "kernelspec": {
   "display_name": "Python 3",
   "language": "python",
   "name": "python3"
  },
  "language_info": {
   "codemirror_mode": {
    "name": "ipython",
    "version": 3
   },
   "file_extension": ".py",
   "mimetype": "text/x-python",
   "name": "python",
   "nbconvert_exporter": "python",
   "pygments_lexer": "ipython3",
   "version": "3.8.3"
  }
 },
 "nbformat": 4,
 "nbformat_minor": 4
}
