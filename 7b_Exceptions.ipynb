{
 "cells": [
  {
   "cell_type": "markdown",
   "metadata": {},
   "source": [
    "# Exceptions"
   ]
  },
  {
   "cell_type": "markdown",
   "metadata": {},
   "source": [
    "Division by zero without catching exception"
   ]
  },
  {
   "cell_type": "code",
   "execution_count": 1,
   "metadata": {
    "scrolled": true
   },
   "outputs": [
    {
     "ename": "ZeroDivisionError",
     "evalue": "division by zero",
     "output_type": "error",
     "traceback": [
      "\u001b[0;31m---------------------------------------------------------------------------\u001b[0m",
      "\u001b[0;31mZeroDivisionError\u001b[0m                         Traceback (most recent call last)",
      "\u001b[0;32m<ipython-input-1-63db961cd739>\u001b[0m in \u001b[0;36m<module>\u001b[0;34m\u001b[0m\n\u001b[0;32m----> 1\u001b[0;31m \u001b[0mprint\u001b[0m\u001b[0;34m(\u001b[0m\u001b[0;34m\"3/0 = \"\u001b[0m\u001b[0;34m,\u001b[0m \u001b[0;36m3\u001b[0m\u001b[0;34m/\u001b[0m\u001b[0;36m0\u001b[0m\u001b[0;34m)\u001b[0m\u001b[0;34m\u001b[0m\u001b[0;34m\u001b[0m\u001b[0m\n\u001b[0m",
      "\u001b[0;31mZeroDivisionError\u001b[0m: division by zero"
     ]
    }
   ],
   "source": [
    "print(\"3/0 = \", 3/0)"
   ]
  },
  {
   "cell_type": "markdown",
   "metadata": {},
   "source": [
    "Catching the exception"
   ]
  },
  {
   "cell_type": "code",
   "execution_count": 3,
   "metadata": {},
   "outputs": [
    {
     "ename": "ZeroDivisionError",
     "evalue": "division by zero",
     "output_type": "error",
     "traceback": [
      "\u001b[0;31m---------------------------------------------------------------------------\u001b[0m",
      "\u001b[0;31mZeroDivisionError\u001b[0m                         Traceback (most recent call last)",
      "\u001b[0;32m<ipython-input-3-7b136961e194>\u001b[0m in \u001b[0;36m<module>\u001b[0;34m\u001b[0m\n\u001b[1;32m      2\u001b[0m     \u001b[0;32mreturn\u001b[0m \u001b[0mdividend\u001b[0m\u001b[0;34m/\u001b[0m\u001b[0mdivisor\u001b[0m\u001b[0;34m\u001b[0m\u001b[0;34m\u001b[0m\u001b[0m\n\u001b[1;32m      3\u001b[0m \u001b[0;34m\u001b[0m\u001b[0m\n\u001b[0;32m----> 4\u001b[0;31m \u001b[0mprint\u001b[0m\u001b[0;34m(\u001b[0m\u001b[0;34m\"nice_div(3,0) = \"\u001b[0m\u001b[0;34m,\u001b[0m \u001b[0mnice_div\u001b[0m\u001b[0;34m(\u001b[0m\u001b[0;36m3\u001b[0m\u001b[0;34m,\u001b[0m\u001b[0;36m0\u001b[0m\u001b[0;34m)\u001b[0m\u001b[0;34m)\u001b[0m\u001b[0;34m\u001b[0m\u001b[0;34m\u001b[0m\u001b[0m\n\u001b[0m",
      "\u001b[0;32m<ipython-input-3-7b136961e194>\u001b[0m in \u001b[0;36mnice_div\u001b[0;34m(dividend, divisor)\u001b[0m\n\u001b[1;32m      1\u001b[0m \u001b[0;32mdef\u001b[0m \u001b[0mnice_div\u001b[0m\u001b[0;34m(\u001b[0m\u001b[0mdividend\u001b[0m\u001b[0;34m,\u001b[0m \u001b[0mdivisor\u001b[0m\u001b[0;34m)\u001b[0m\u001b[0;34m:\u001b[0m\u001b[0;34m\u001b[0m\u001b[0;34m\u001b[0m\u001b[0m\n\u001b[0;32m----> 2\u001b[0;31m     \u001b[0;32mreturn\u001b[0m \u001b[0mdividend\u001b[0m\u001b[0;34m/\u001b[0m\u001b[0mdivisor\u001b[0m\u001b[0;34m\u001b[0m\u001b[0;34m\u001b[0m\u001b[0m\n\u001b[0m\u001b[1;32m      3\u001b[0m \u001b[0;34m\u001b[0m\u001b[0m\n\u001b[1;32m      4\u001b[0m \u001b[0mprint\u001b[0m\u001b[0;34m(\u001b[0m\u001b[0;34m\"nice_div(3,0) = \"\u001b[0m\u001b[0;34m,\u001b[0m \u001b[0mnice_div\u001b[0m\u001b[0;34m(\u001b[0m\u001b[0;36m3\u001b[0m\u001b[0;34m,\u001b[0m\u001b[0;36m0\u001b[0m\u001b[0;34m)\u001b[0m\u001b[0;34m)\u001b[0m\u001b[0;34m\u001b[0m\u001b[0;34m\u001b[0m\u001b[0m\n",
      "\u001b[0;31mZeroDivisionError\u001b[0m: division by zero"
     ]
    }
   ],
   "source": [
    "def nice_div(dividend, divisor):\n",
    "    return dividend/divisor\n",
    "\n",
    "print(\"nice_div(3,0) = \", nice_div(3,0))"
   ]
  },
  {
   "cell_type": "code",
   "execution_count": 16,
   "metadata": {},
   "outputs": [
    {
     "name": "stdout",
     "output_type": "stream",
     "text": [
      "nice_div(3,0) =  nan\n"
     ]
    }
   ],
   "source": [
    "import math\n",
    "def nice_div(dividend, divisor):\n",
    "    try:\n",
    "        return dividend/divisor\n",
    "    except ZeroDivisionError:\n",
    "        return math.nan\n",
    "\n",
    "print(\"nice_div(3,0) = \", nice_div(3,0))"
   ]
  },
  {
   "cell_type": "markdown",
   "metadata": {},
   "source": [
    "Dividing by a string"
   ]
  },
  {
   "cell_type": "code",
   "execution_count": 17,
   "metadata": {},
   "outputs": [
    {
     "ename": "TypeError",
     "evalue": "unsupported operand type(s) for /: 'int' and 'str'",
     "output_type": "error",
     "traceback": [
      "\u001b[0;31m---------------------------------------------------------------------------\u001b[0m",
      "\u001b[0;31mTypeError\u001b[0m                                 Traceback (most recent call last)",
      "\u001b[0;32m<ipython-input-17-fd2436b52927>\u001b[0m in \u001b[0;36m<module>\u001b[0;34m\u001b[0m\n\u001b[1;32m      6\u001b[0m         \u001b[0;32mreturn\u001b[0m \u001b[0mmath\u001b[0m\u001b[0;34m.\u001b[0m\u001b[0mnan\u001b[0m\u001b[0;34m\u001b[0m\u001b[0;34m\u001b[0m\u001b[0m\n\u001b[1;32m      7\u001b[0m \u001b[0;34m\u001b[0m\u001b[0m\n\u001b[0;32m----> 8\u001b[0;31m \u001b[0mprint\u001b[0m\u001b[0;34m(\u001b[0m\u001b[0;34m'nice_div(3,\"zero\")'\u001b[0m\u001b[0;34m,\u001b[0m \u001b[0mnice_div\u001b[0m\u001b[0;34m(\u001b[0m\u001b[0;36m3\u001b[0m\u001b[0;34m,\u001b[0m \u001b[0;34m\"zero\"\u001b[0m\u001b[0;34m)\u001b[0m\u001b[0;34m)\u001b[0m\u001b[0;34m\u001b[0m\u001b[0;34m\u001b[0m\u001b[0m\n\u001b[0m",
      "\u001b[0;32m<ipython-input-17-fd2436b52927>\u001b[0m in \u001b[0;36mnice_div\u001b[0;34m(dividend, divisor)\u001b[0m\n\u001b[1;32m      2\u001b[0m \u001b[0;32mdef\u001b[0m \u001b[0mnice_div\u001b[0m\u001b[0;34m(\u001b[0m\u001b[0mdividend\u001b[0m\u001b[0;34m,\u001b[0m \u001b[0mdivisor\u001b[0m\u001b[0;34m)\u001b[0m\u001b[0;34m:\u001b[0m\u001b[0;34m\u001b[0m\u001b[0;34m\u001b[0m\u001b[0m\n\u001b[1;32m      3\u001b[0m     \u001b[0;32mtry\u001b[0m\u001b[0;34m:\u001b[0m\u001b[0;34m\u001b[0m\u001b[0;34m\u001b[0m\u001b[0m\n\u001b[0;32m----> 4\u001b[0;31m         \u001b[0;32mreturn\u001b[0m \u001b[0mdividend\u001b[0m\u001b[0;34m/\u001b[0m\u001b[0mdivisor\u001b[0m\u001b[0;34m\u001b[0m\u001b[0;34m\u001b[0m\u001b[0m\n\u001b[0m\u001b[1;32m      5\u001b[0m     \u001b[0;32mexcept\u001b[0m \u001b[0mZeroDivisionError\u001b[0m\u001b[0;34m:\u001b[0m\u001b[0;34m\u001b[0m\u001b[0;34m\u001b[0m\u001b[0m\n\u001b[1;32m      6\u001b[0m         \u001b[0;32mreturn\u001b[0m \u001b[0mmath\u001b[0m\u001b[0;34m.\u001b[0m\u001b[0mnan\u001b[0m\u001b[0;34m\u001b[0m\u001b[0;34m\u001b[0m\u001b[0m\n",
      "\u001b[0;31mTypeError\u001b[0m: unsupported operand type(s) for /: 'int' and 'str'"
     ]
    }
   ],
   "source": [
    "import math\n",
    "def nice_div(dividend, divisor):\n",
    "    try:\n",
    "        return dividend/divisor\n",
    "    except ZeroDivisionError:\n",
    "        return math.nan\n",
    "\n",
    "print('nice_div(3,\"zero\")', nice_div(3, \"zero\"))"
   ]
  },
  {
   "cell_type": "markdown",
   "metadata": {},
   "source": [
    "Overly broad exception catching"
   ]
  },
  {
   "cell_type": "code",
   "execution_count": 18,
   "metadata": {},
   "outputs": [
    {
     "name": "stdout",
     "output_type": "stream",
     "text": [
      "nice_div(3,\"zero\") = nan\n",
      "nice_div(3,0) = nan\n"
     ]
    }
   ],
   "source": [
    "import math\n",
    "def nice_div(dividend, divisor):\n",
    "    try:\n",
    "        return dividend/divisor\n",
    "    except Exception:\n",
    "        return math.nan\n",
    "\n",
    "print('nice_div(3,\"zero\") =', nice_div(3,\"zero\"))\n",
    "print(\"nice_div(3,0) =\", nice_div(3,0))"
   ]
  },
  {
   "cell_type": "markdown",
   "metadata": {},
   "source": [
    "Precision exception catching"
   ]
  },
  {
   "cell_type": "code",
   "execution_count": 19,
   "metadata": {},
   "outputs": [
    {
     "name": "stdout",
     "output_type": "stream",
     "text": [
      "nice_div(3,\"zero\") = nan\n",
      "nice_div(3,0) = nan\n"
     ]
    }
   ],
   "source": [
    "import math\n",
    "def nice_div(dividend, divisor):\n",
    "    try:\n",
    "        return dividend/divisor\n",
    "    except (ZeroDivisionError, TypeError):\n",
    "        return math.nan\n",
    "\n",
    "print('nice_div(3,\"zero\") =', nice_div(3,\"zero\"))\n",
    "print(\"nice_div(3,0) =\", nice_div(3,0))"
   ]
  },
  {
   "cell_type": "markdown",
   "metadata": {},
   "source": [
    "## Printing and Processing Exceptions"
   ]
  },
  {
   "cell_type": "code",
   "execution_count": 20,
   "metadata": {},
   "outputs": [
    {
     "name": "stdout",
     "output_type": "stream",
     "text": [
      "You screwed up your division, human: unsupported operand type(s) for /: 'int' and 'str'\n",
      "nice_div(3,\"zero\") = nan\n"
     ]
    }
   ],
   "source": [
    "import math\n",
    "def nice_div(dividend, divisor):\n",
    "    try:\n",
    "        return dividend/divisor\n",
    "    except (ZeroDivisionError, TypeError) as ex:\n",
    "        print(f\"You screwed up your division, human: {ex}\")\n",
    "        return math.nan\n",
    "        \n",
    "print('nice_div(3,\"zero\") =', nice_div(3,\"zero\"))\n"
   ]
  },
  {
   "cell_type": "markdown",
   "metadata": {},
   "source": [
    "## How Exceptions Affect Execution"
   ]
  },
  {
   "cell_type": "code",
   "execution_count": 23,
   "metadata": {},
   "outputs": [
    {
     "name": "stdout",
     "output_type": "stream",
     "text": [
      "The result of 3/10 is: 0.3\n",
      "You screwed up your division, human 45/0 gave: division by zero\n"
     ]
    }
   ],
   "source": [
    "def nice_div(dividend, divisor):\n",
    "    try:\n",
    "        result =  dividend/divisor\n",
    "        print(f\"The result of {dividend}/{divisor} is: {result}\")\n",
    "    except (ZeroDivisionError, TypeError) as ex:\n",
    "        print(f\"You screwed up your division, human {dividend}/{divisor} gave: {ex}\")\n",
    "        \n",
    "nice_div(3,10)\n",
    "nice_div(45,0)\n"
   ]
  },
  {
   "cell_type": "markdown",
   "metadata": {},
   "source": [
    "## Finally! A finally Statement"
   ]
  },
  {
   "cell_type": "code",
   "execution_count": 26,
   "metadata": {},
   "outputs": [
    {
     "name": "stdout",
     "output_type": "stream",
     "text": [
      "The result of 3/10 is: 0.3\n",
      "I'm glad that's over!\n",
      "You screwed up your division, human. 45/0 gave: division by zero\n",
      "I'm glad that's over!\n"
     ]
    }
   ],
   "source": [
    "def nice_div(dividend, divisor):\n",
    "    try:\n",
    "        result =  dividend/divisor\n",
    "        print(f\"The result of {dividend}/{divisor} is: {result}\")\n",
    "    except (ZeroDivisionError, TypeError) as ex:\n",
    "        print(f\"You screwed up your division, human. {dividend}/{divisor} gave: {ex}\")\n",
    "    finally:\n",
    "        print(\"I'm glad that's over!\")\n",
    "        \n",
    "nice_div(3,10)\n",
    "nice_div(45,0)\n"
   ]
  },
  {
   "cell_type": "markdown",
   "metadata": {},
   "source": [
    "## Raising Your Own Exceptions and Sending Them into the World"
   ]
  },
  {
   "cell_type": "code",
   "execution_count": 8,
   "metadata": {},
   "outputs": [
    {
     "name": "stdout",
     "output_type": "stream",
     "text": [
      "Error: MathError: Tried to do 3/0\n"
     ]
    }
   ],
   "source": [
    "class ProgramError(RuntimeError):\n",
    "    ...\n",
    "\n",
    "class BadMathError(ProgramError):\n",
    "    ...\n",
    "\n",
    "def nice_div(dividend, divisor):\n",
    "    try:\n",
    "        result =  dividend/divisor\n",
    "    except ZeroDivisionError:\n",
    "        raise BadMathError(f\"MathError: Tried to do {dividend}/{divisor}\")\n",
    "\n",
    "def main():\n",
    "    print(\"nice_div (3, 0)       = \", nice_div(3, 0))\n",
    "\n",
    "if __name__ == \"__main__\":\n",
    "    try:\n",
    "        main()\n",
    "    except ProgramError as ex:\n",
    "        print(\"Error:\", ex)\n",
    "        "
   ]
  },
  {
   "cell_type": "code",
   "execution_count": null,
   "metadata": {},
   "outputs": [],
   "source": []
  }
 ],
 "metadata": {
  "kernelspec": {
   "display_name": "Python 3",
   "language": "python",
   "name": "python3"
  },
  "language_info": {
   "codemirror_mode": {
    "name": "ipython",
    "version": 3
   },
   "file_extension": ".py",
   "mimetype": "text/x-python",
   "name": "python",
   "nbconvert_exporter": "python",
   "pygments_lexer": "ipython3",
   "version": "3.8.3"
  }
 },
 "nbformat": 4,
 "nbformat_minor": 4
}
