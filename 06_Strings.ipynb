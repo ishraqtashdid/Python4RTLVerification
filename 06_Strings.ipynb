{
 "cells": [
  {
   "cell_type": "markdown",
   "metadata": {},
   "source": [
    "# Strings\n",
    "Examples of Python Strings"
   ]
  },
  {
   "cell_type": "markdown",
   "metadata": {},
   "source": [
    "Creating a string and referencing parts of it"
   ]
  },
  {
   "cell_type": "code",
   "execution_count": null,
   "metadata": {},
   "outputs": [],
   "source": []
  },
  {
   "cell_type": "code",
   "execution_count": 2,
   "metadata": {
    "scrolled": true
   },
   "outputs": [
    {
     "name": "stdout",
     "output_type": "stream",
     "text": [
      "Last six characters with double quote: real.\"\n"
     ]
    }
   ],
   "source": [
    "line = 'Morpheus said, \"Welcome to the desert of the real.\"'\n",
    "print(\"Last six characters with double quote:\", line[45:51])"
   ]
  },
  {
   "cell_type": "code",
   "execution_count": 7,
   "metadata": {
    "scrolled": true
   },
   "outputs": [
    {
     "ename": "TypeError",
     "evalue": "'str' object does not support item assignment",
     "output_type": "error",
     "traceback": [
      "\u001b[0;31m---------------------------------------------------------------------------\u001b[0m",
      "\u001b[0;31mTypeError\u001b[0m                                 Traceback (most recent call last)",
      "\u001b[0;32m<ipython-input-7-dcd2e023ebda>\u001b[0m in \u001b[0;36m<module>\u001b[0;34m\u001b[0m\n\u001b[1;32m      1\u001b[0m \u001b[0mline\u001b[0m \u001b[0;34m=\u001b[0m \u001b[0;34m'Morpheus said, \"Welcome to the desert of the real.\"'\u001b[0m\u001b[0;34m\u001b[0m\u001b[0;34m\u001b[0m\u001b[0m\n\u001b[0;32m----> 2\u001b[0;31m \u001b[0mline\u001b[0m\u001b[0;34m[\u001b[0m\u001b[0;36m45\u001b[0m\u001b[0;34m:\u001b[0m\u001b[0;36m49\u001b[0m\u001b[0;34m]\u001b[0m \u001b[0;34m=\u001b[0m \u001b[0;34m\"mall\"\u001b[0m\u001b[0;34m\u001b[0m\u001b[0;34m\u001b[0m\u001b[0m\n\u001b[0m",
      "\u001b[0;31mTypeError\u001b[0m: 'str' object does not support item assignment"
     ]
    }
   ],
   "source": [
    "line = 'Morpheus said, \"Welcome to the desert of the real.\"'\n",
    "line[45:49] = \"mall\""
   ]
  },
  {
   "cell_type": "code",
   "execution_count": 1,
   "metadata": {},
   "outputs": [
    {
     "name": "stdout",
     "output_type": "stream",
     "text": [
      "Morpheus said, \"Welcome to the desert of the mall.\"\n"
     ]
    }
   ],
   "source": [
    "real_line = 'Morpheus said, \"Welcome to the desert of the real.\"'\n",
    "mall_line = real_line.replace(\"real\", \"mall\")\n",
    "print(mall_line)"
   ]
  },
  {
   "cell_type": "code",
   "execution_count": 4,
   "metadata": {},
   "outputs": [
    {
     "name": "stdout",
     "output_type": "stream",
     "text": [
      "Goodbye, Mr. Anderson\n",
      "My name . . . is Neo!\n"
     ]
    }
   ],
   "source": [
    "file_lines = [\"Goodbye, Mr. Anderson\",\"My name . . . is Neo!\" ]\n",
    "joined_lines = \"\\n\".join(file_lines)\n",
    "print(joined_lines)"
   ]
  },
  {
   "cell_type": "code",
   "execution_count": 9,
   "metadata": {},
   "outputs": [
    {
     "name": "stdout",
     "output_type": "stream",
     "text": [
      "path_str: user/rsalemi/documents\n"
     ]
    }
   ],
   "source": [
    "path_list =  [\"user\", \"rsalemi\", \"documents\"]\n",
    "path_str = \"/\".join(path_list)\n",
    "print(\"path_str:\", path_str)"
   ]
  },
  {
   "cell_type": "markdown",
   "metadata": {},
   "source": [
    "Adding strings"
   ]
  },
  {
   "cell_type": "code",
   "execution_count": 10,
   "metadata": {},
   "outputs": [
    {
     "name": "stdout",
     "output_type": "stream",
     "text": [
      "path_str: /user/rsalemi/documents\n"
     ]
    }
   ],
   "source": [
    "path_list =  [\"user\", \"rsalemi\", \"documents\"]\n",
    "path_str = \"/\".join(path_list)\n",
    "path_str = \"/\" + path_str\n",
    "print(\"path_str:\", path_str)"
   ]
  },
  {
   "cell_type": "code",
   "execution_count": 11,
   "metadata": {},
   "outputs": [
    {
     "name": "stdout",
     "output_type": "stream",
     "text": [
      "numbs ['0', '1', '2', '3']\n"
     ]
    }
   ],
   "source": [
    "numbs =  [str(nn) for nn in range(4)]\n",
    "print(\"numbs\", numbs)"
   ]
  },
  {
   "cell_type": "markdown",
   "metadata": {},
   "source": [
    "## String Methods"
   ]
  },
  {
   "cell_type": "markdown",
   "metadata": {},
   "source": [
    "**str.join()**"
   ]
  },
  {
   "cell_type": "code",
   "execution_count": 15,
   "metadata": {},
   "outputs": [
    {
     "name": "stdout",
     "output_type": "stream",
     "text": [
      "path: tb.dut.myblock\n"
     ]
    }
   ],
   "source": [
    "instances = [\"tb\",\"dut\", \"myblock\"]\n",
    "path = \".\".join(instances)\n",
    "print(\"path:\", joined)"
   ]
  },
  {
   "cell_type": "markdown",
   "metadata": {},
   "source": [
    "**str.split()**"
   ]
  },
  {
   "cell_type": "code",
   "execution_count": 25,
   "metadata": {},
   "outputs": [
    {
     "name": "stdout",
     "output_type": "stream",
     "text": [
      "Luke Skywalker Jedi Tatooine\n"
     ]
    }
   ],
   "source": [
    "csv_line=\"Luke,Skywalker,Jedi,Tatooine\"\n",
    "first_name, last_name, job, homeworld = csv_line.split(\",\")\n",
    "print(first_name, last_name, job, homeworld)"
   ]
  },
  {
   "cell_type": "markdown",
   "metadata": {},
   "source": [
    "**str.splitlines()**"
   ]
  },
  {
   "cell_type": "code",
   "execution_count": 12,
   "metadata": {},
   "outputs": [
    {
     "name": "stdout",
     "output_type": "stream",
     "text": [
      "Grocery list: ['bread', 'milk', 'eggs']\n"
     ]
    }
   ],
   "source": [
    "grocery_str=\"bread\\nmilk\\neggs\"\n",
    "grocery_list=grocery_str.splitlines()\n",
    "print(\"Grocery list:\",grocery_list)"
   ]
  },
  {
   "cell_type": "markdown",
   "metadata": {},
   "source": [
    "**str.strip()**"
   ]
  },
  {
   "cell_type": "code",
   "execution_count": 15,
   "metadata": {},
   "outputs": [
    {
     "name": "stdout",
     "output_type": "stream",
     "text": [
      "Extra Spaces: [   run  ]\n",
      "Cleaned up: [run]\n"
     ]
    }
   ],
   "source": [
    "user_input=\"   run  \"\n",
    "print('Extra Spaces:','['+user_input+']')\n",
    "cmd = user_input.strip()\n",
    "print('Cleaned up:', '['+cmd+']')"
   ]
  },
  {
   "cell_type": "markdown",
   "metadata": {},
   "source": [
    "**str.upper()**"
   ]
  },
  {
   "cell_type": "code",
   "execution_count": 17,
   "metadata": {},
   "outputs": [
    {
     "name": "stdout",
     "output_type": "stream",
     "text": [
      "Cases folded: why do people do this?\n"
     ]
    }
   ],
   "source": [
    "weird_cap = \"wHy dO pEoplE dO tHiS?\"\n",
    "print(\"Cases folded:\", weird_cap.casefold())"
   ]
  },
  {
   "cell_type": "markdown",
   "metadata": {},
   "source": [
    "## Formatted Strings\n",
    "The most recent formatting tool."
   ]
  },
  {
   "cell_type": "code",
   "execution_count": 40,
   "metadata": {
    "scrolled": true
   },
   "outputs": [
    {
     "name": "stdout",
     "output_type": "stream",
     "text": [
      "1j * (1+1j) = (-1+1j)\n"
     ]
    }
   ],
   "source": [
    "answer = 1j * (1+1j)\n",
    "answer_str = f\"1j * (1+1j) = {answer}\"\n",
    "print(answer_str)"
   ]
  },
  {
   "cell_type": "markdown",
   "metadata": {},
   "source": [
    "Width"
   ]
  },
  {
   "cell_type": "code",
   "execution_count": 48,
   "metadata": {
    "scrolled": true
   },
   "outputs": [
    {
     "name": "stdout",
     "output_type": "stream",
     "text": [
      "|First Name  |Last Name   |\n",
      "|Luke        |Skywalker   |\n"
     ]
    }
   ],
   "source": [
    "csv_line=\"Luke,Skywalker,Jedi,Tatooine\"\n",
    "first_name, last_name, job, homeworld = csv_line.split(\",\")\n",
    "print(\"|First Name  |Last Name   |\")\n",
    "print(f\"|{first_name:12}|{last_name:12}|\")"
   ]
  },
  {
   "cell_type": "markdown",
   "metadata": {},
   "source": [
    "Bases"
   ]
  },
  {
   "cell_type": "code",
   "execution_count": 18,
   "metadata": {},
   "outputs": [
    {
     "name": "stdout",
     "output_type": "stream",
     "text": [
      "dec: 17  bin: 00010001  oct:21  hex: 0011\n"
     ]
    }
   ],
   "source": [
    "nn = 17\n",
    "print(f\"dec: {nn}  bin: {nn:08b}  oct:{nn:o}  hex: {nn:04x}\")"
   ]
  },
  {
   "cell_type": "markdown",
   "metadata": {},
   "source": [
    "## The __str__() Magic Method\n",
    "Converting an object to a string"
   ]
  },
  {
   "cell_type": "code",
   "execution_count": 63,
   "metadata": {},
   "outputs": [
    {
     "name": "stdout",
     "output_type": "stream",
     "text": [
      "0xf\n"
     ]
    }
   ],
   "source": [
    "class hexint(int):\n",
    "   def __str__(self):\n",
    "      return f\"0x{self:x}\"\n",
    "\n",
    "xx = hexint(15)\n",
    "print(xx)\n"
   ]
  },
  {
   "cell_type": "code",
   "execution_count": null,
   "metadata": {},
   "outputs": [],
   "source": []
  }
 ],
 "metadata": {
  "kernelspec": {
   "display_name": "Python 3",
   "language": "python",
   "name": "python3"
  },
  "language_info": {
   "codemirror_mode": {
    "name": "ipython",
    "version": 3
   },
   "file_extension": ".py",
   "mimetype": "text/x-python",
   "name": "python",
   "nbconvert_exporter": "python",
   "pygments_lexer": "ipython3",
   "version": "3.8.3"
  }
 },
 "nbformat": 4,
 "nbformat_minor": 4
}
