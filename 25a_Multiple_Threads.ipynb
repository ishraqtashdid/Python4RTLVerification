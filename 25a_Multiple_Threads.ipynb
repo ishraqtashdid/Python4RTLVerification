{
 "cells": [
  {
   "cell_type": "markdown",
   "metadata": {},
   "source": [
    "# Multiple Threads"
   ]
  },
  {
   "cell_type": "code",
   "execution_count": 11,
   "metadata": {},
   "outputs": [
    {
     "name": "stdout",
     "output_type": "stream",
     "text": [
      "Yes!\n",
      "       No!\n",
      "       No!\n",
      "Yes!\n",
      "       No!\n",
      "Yes!\n",
      "I will stop this car!\n"
     ]
    }
   ],
   "source": [
    "import threading\n",
    "import time\n",
    "\n",
    "def yes():\n",
    "    for _ in range(3):\n",
    "        print(\"Yes!\")\n",
    "        time.sleep(0.1)\n",
    "def no():\n",
    "    for _ in range(3):\n",
    "        print(\"       No!\")\n",
    "        time.sleep(0.1)\n",
    "\n",
    "yes_kid = threading.Thread(target=yes)\n",
    "no_kid = threading.Thread(target=no)\n",
    "yes_kid.start()\n",
    "no_kid.start()\n",
    "yes_kid.join()\n",
    "no_kid.join()\n",
    "print(\"I will stop this car!\")"
   ]
  },
  {
   "cell_type": "markdown",
   "metadata": {},
   "source": [
    "## Passing Data Between Threads"
   ]
  },
  {
   "cell_type": "code",
   "execution_count": 37,
   "metadata": {},
   "outputs": [
    {
     "name": "stdout",
     "output_type": "stream",
     "text": [
      "sent P\n",
      "sent i\n",
      "sent e\n",
      "Msg is: \n"
     ]
    }
   ],
   "source": [
    "import threading\n",
    "\n",
    "class Conduit():\n",
    "    def __init__(self):\n",
    "        self.datum = None\n",
    "        \n",
    "    def put(self,nn):\n",
    "        self.datum = nn\n",
    "        \n",
    "    def get(self):\n",
    "        return self.datum\n",
    "\n",
    "def producer(cc):\n",
    "    for letter in \"Pie\":\n",
    "        print(f\"sent {letter}\")\n",
    "        cc.put(letter)\n",
    "    cc.put(None)\n",
    "\n",
    "def consumer(cc):\n",
    "    msg = \"\"\n",
    "    while True:\n",
    "        dd = cc.get()\n",
    "        if dd is None:\n",
    "            break\n",
    "        msg = msg+dd\n",
    "    print(\"Msg is:\", msg)\n",
    "            \n",
    "cc = Conduit()\n",
    "pthread = threading.Thread(target=producer, args=(cc,))\n",
    "cthread = threading.Thread(target=consumer, args=(cc,))\n",
    "pthread.start()\n",
    "cthread.start()"
   ]
  },
  {
   "cell_type": "code",
   "execution_count": 38,
   "metadata": {
    "scrolled": true
   },
   "outputs": [
    {
     "name": "stdout",
     "output_type": "stream",
     "text": [
      "sent P\n",
      "sent i\n",
      "sent e\n",
      "Msg is: Pie\n"
     ]
    }
   ],
   "source": [
    "import threading\n",
    "import queue\n",
    "\n",
    "\n",
    "def producer(cc):\n",
    "    for letter in \"Pie\":\n",
    "        print(f\"sent {letter}\")\n",
    "        cc.put(letter)\n",
    "    cc.put(None)\n",
    "\n",
    "def consumer(cc):\n",
    "    msg = \"\"\n",
    "    while True:\n",
    "        dd = cc.get()\n",
    "        if dd is None:\n",
    "            break\n",
    "        msg = msg+dd\n",
    "    print(\"Msg is:\", msg)\n",
    "            \n",
    "cc = queue.Queue()\n",
    "pthread = threading.Thread(target=producer, args=(cc,))\n",
    "cthread = threading.Thread(target=consumer, args=(cc,))\n",
    "pthread.start()\n",
    "cthread.start()"
   ]
  },
  {
   "cell_type": "markdown",
   "metadata": {},
   "source": [
    "## Using Thread Conditions to Block\n",
    "\n",
    "The race car example"
   ]
  },
  {
   "cell_type": "code",
   "execution_count": null,
   "metadata": {},
   "outputs": [],
   "source": [
    "from pyuvm import Singleton\n",
    "import threading\n",
    "\n",
    "class FlagHolder(metaclass=Singleton):\n",
    "    def __init__(self, cond=None):\n",
    "        self.flag = False\n",
    "        self.cond = cond\n",
    "        self.set_count = 1\n",
    "\n",
    "    def set_flag(self, flag):\n",
    "        print(f\"\\nSetting flag to {flag}\")\n",
    "        self.set_count += 1\n",
    "        self.flag = flag\n",
    "        with self.cond:\n",
    "            self.cond.notify_all()\n",
    "\n",
    "def check_flag():\n",
    "    print(f\"Checking {FlagHolder().set_count}\", end=\" \")\n",
    "    return FlagHolder().flag\n",
    "\n",
    "def racecar(number, flag_cond):\n",
    "    with flag_cond:\n",
    "        flag_cond.wait_for(check_flag)\n",
    "    print(f\"# {number:02d} Go!\", end=\" \")\n",
    "\n",
    "flag_cond = threading.Condition()\n",
    "flag_holder = FlagHolder(flag_cond)\n",
    "thread_list=[]\n",
    "\n",
    "for ii in range(10,13):\n",
    "    thread = threading.Thread(target=racecar, args=[ii, flag_cond])\n",
    "    thread_list.append(thread)\n",
    "for tt in thread_list:\n",
    "    tt.start()\n",
    "\n",
    "\n",
    "flag_holder.set_flag(False)\n",
    "time.sleep(0.1)\n",
    "flag_holder.set_flag(False)\n",
    "time.sleep(0.1)\n",
    "flag_holder.set_flag(True)"
   ]
  },
  {
   "cell_type": "code",
   "execution_count": 14,
   "metadata": {},
   "outputs": [
    {
     "name": "stdout",
     "output_type": "stream",
     "text": [
      "Play\n",
      "Guessing 1\n",
      "Is it 1?\n",
      "Guessing 2\n",
      "Is it 2?\n",
      "Guessing 4\n",
      "Is it 4?\n",
      "Guessing 3\n",
      "Is it 3?\n",
      "Guessing 5\n",
      "Is it 5?\n",
      "Correct: It is 5!\n"
     ]
    }
   ],
   "source": [
    "import threading\n",
    "import random\n",
    "import time\n",
    "\n",
    "class GuessingGame:\n",
    "    def __init__(self, answer):\n",
    "        assert(answer in set(range(1,6))), \"Must pick a number between 1 and 5\"\n",
    "        self.guesses = list(range(1,6))\n",
    "        self.answer = answer\n",
    "        self.guess = None\n",
    "        self.guess_cond = threading.Condition()\n",
    "        self.done = False\n",
    "        \n",
    "    def guesser(self):\n",
    "        while not self.done:\n",
    "            self.guess = random.choice(self.guesses)\n",
    "            self.guesses.remove(self.guess)\n",
    "            print(f\"Guessing {self.guess}\")\n",
    "            with self.guess_cond:\n",
    "                self.guess_cond.notify_all()\n",
    "            time.sleep(0.1)\n",
    "            \n",
    "    def is_it(self):\n",
    "        print(f\"Is it {self.guess}?\")\n",
    "        return self.answer == self.guess\n",
    "    \n",
    "    def checker(self):\n",
    "        with self.guess_cond:\n",
    "            self.guess_cond.wait_for(self.is_it)\n",
    "        print(f\"Correct: It is {self.guess}!\")\n",
    "        self.done = True\n",
    "\n",
    "    def play(self):\n",
    "        print(\"Play\")\n",
    "        guesser_thread = threading.Thread(target=self.guesser)\n",
    "        checker_thread = threading.Thread(target=self.checker)\n",
    "        guesser_thread.start()\n",
    "        checker_thread.start()\n",
    "        guesser_thread.join()\n",
    "        checker_thread.join()\n",
    "\n",
    "game = GuessingGame(5)\n",
    "game.play()"
   ]
  },
  {
   "cell_type": "code",
   "execution_count": null,
   "metadata": {},
   "outputs": [],
   "source": [
    "None != 5"
   ]
  },
  {
   "cell_type": "markdown",
   "metadata": {},
   "source": [
    "## Ending Threads\n",
    "### Terminating Data"
   ]
  },
  {
   "cell_type": "code",
   "execution_count": null,
   "metadata": {},
   "outputs": [],
   "source": [
    "import threading\n",
    "\n",
    "def producer(numb, qq):\n",
    "    for nn in range(numb):\n",
    "        qq.put(nn)\n",
    "        print(f\"sent {nn}\", end=\" \")\n",
    "    qq.put(None)\n",
    "\n",
    "def consumer(qq):\n",
    "    nn = qq.get()\n",
    "    while nn is not None:\n",
    "        print(f\"got {nn}\", end=\" \")\n",
    "        nn = qq.get()\n",
    "\n",
    "queue = Queue(maxsize=1)\n",
    "pthread = threading.Thread(target=producer, args=[4, queue])\n",
    "cthread = threading.Thread(target=consumer, args=[queue])\n",
    "pthread.start()\n",
    "cthread.start()\n"
   ]
  },
  {
   "cell_type": "markdown",
   "metadata": {},
   "source": [
    "### Termination Flag"
   ]
  },
  {
   "cell_type": "code",
   "execution_count": 3,
   "metadata": {},
   "outputs": [
    {
     "name": "stdout",
     "output_type": "stream",
     "text": [
      "sent 0 got 0sent 1  sent 2got 1  got 2 sent 3 got 3 "
     ]
    }
   ],
   "source": [
    "import threading\n",
    "from pyuvm import Singleton\n",
    "import time\n",
    "from queue import Queue, Empty\n",
    "\n",
    "class TerminateExample():\n",
    "    def __init__(self):\n",
    "        self.finished = False\n",
    "        self.qq = Queue(maxsize=1)\n",
    "        \n",
    "    def producer(self,numb):\n",
    "        for nn in range(numb):\n",
    "            print(f\"sent {nn}\", end=\" \")\n",
    "            self.qq.put(nn)\n",
    "            time.sleep(0.2)\n",
    "        self.finished = True\n",
    "\n",
    "    def consumer(self):\n",
    "        while not self.finished:\n",
    "            try:\n",
    "                nn = self.qq.get(timeout=0.1)\n",
    "                time.sleep(0.2)\n",
    "                print(f\"got {nn}\", end=\" \")\n",
    "            except Empty:\n",
    "                pass\n",
    "\n",
    "    def run(self):\n",
    "        pthread = threading.Thread(target=self.producer, args=(4,))\n",
    "        cthread = threading.Thread(target=self.consumer)\n",
    "        pthread.start()\n",
    "        cthread.start()\n",
    "        cthread.join()\n",
    "        pthread.join()\n",
    "\n",
    "TerminateExample().run()"
   ]
  },
  {
   "cell_type": "code",
   "execution_count": null,
   "metadata": {},
   "outputs": [],
   "source": []
  }
 ],
 "metadata": {
  "kernelspec": {
   "display_name": "Python 3",
   "language": "python",
   "name": "python3"
  },
  "language_info": {
   "codemirror_mode": {
    "name": "ipython",
    "version": 3
   },
   "file_extension": ".py",
   "mimetype": "text/x-python",
   "name": "python",
   "nbconvert_exporter": "python",
   "pygments_lexer": "ipython3",
   "version": "3.8.3"
  }
 },
 "nbformat": 4,
 "nbformat_minor": 4
}
