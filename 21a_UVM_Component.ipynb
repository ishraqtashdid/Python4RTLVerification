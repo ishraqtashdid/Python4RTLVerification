{
 "cells": [
  {
   "cell_type": "markdown",
   "metadata": {},
   "source": [
    "# UVM Components\n",
    "\n",
    "Note: The code below needs to be run in a freshly started Jupyter notebook kernal. Use the >> button above to run the code."
   ]
  },
  {
   "cell_type": "code",
   "execution_count": 1,
   "metadata": {
    "scrolled": true
   },
   "outputs": [
    {
     "name": "stderr",
     "output_type": "stream",
     "text": [
      "INFO: <ipython-input-1-6ef40255afbc>(5)[uvm_test_top]: build_phase adds components\n",
      "INFO: <ipython-input-1-6ef40255afbc>(8)[uvm_test_top]: connect_phase adds components\n",
      "INFO: <ipython-input-1-6ef40255afbc>(11)[uvm_test_top]: end_of_elsaboration_phase means everything is built and connected\n",
      "INFO: <ipython-input-1-6ef40255afbc>(14)[uvm_test_top]: start_of_simulation_phase is the last chance before simulation starts\n",
      "INFO: <ipython-input-1-6ef40255afbc>(18)[uvm_test_top]: run_phase launches the thread that does the work \n",
      "INFO: <ipython-input-1-6ef40255afbc>(22)[uvm_test_top]: extract_phase runs after all threads end. Gather data for checking\n",
      "INFO: <ipython-input-1-6ef40255afbc>(25)[uvm_test_top]: check_phase is for checking that you had no errors\n",
      "INFO: <ipython-input-1-6ef40255afbc>(28)[uvm_test_top]: report_phase is where you report results\n",
      "INFO: <ipython-input-1-6ef40255afbc>(31)[uvm_test_top]: final_phase is for clean up tasks for ending\n"
     ]
    }
   ],
   "source": [
    "from pyuvm import *\n",
    "\n",
    "class PhaseTest(uvm_test):\n",
    "    def build_phase(self):\n",
    "        self.logger.info(\"build_phase adds components\")\n",
    "\n",
    "    def connect_phase(self):\n",
    "        self.logger.info(\"connect_phase adds components\")\n",
    "\n",
    "    def end_of_elaboration_phase(self):\n",
    "        self.logger.info(\"end_of_elsaboration_phase means everything is built and connected\")\n",
    "\n",
    "    def start_of_simulation_phase(self):\n",
    "        self.logger.info(\"start_of_simulation_phase is the last chance before simulation starts\")\n",
    "\n",
    "    def run_phase(self):\n",
    "        self.raise_objection()\n",
    "        self.logger.info(\"run_phase launches the thread that does the work \")\n",
    "        self.drop_objection()\n",
    "\n",
    "    def extract_phase(self):\n",
    "        self.logger.info(\"extract_phase runs after all threads end. Gather data for checking\")\n",
    "\n",
    "    def check_phase(self):\n",
    "        self.logger.info(\"check_phase is for checking that you had no errors\")\n",
    "\n",
    "    def report_phase(self):\n",
    "        self.logger.info(\"report_phase is where you report results\")\n",
    "\n",
    "    def final_phase(self):\n",
    "        self.logger.info(\"final_phase is for clean up tasks for ending\")\n",
    "\n",
    "\n",
    "uvm_root().run_test(\"PhaseTest\")"
   ]
  },
  {
   "cell_type": "code",
   "execution_count": null,
   "metadata": {},
   "outputs": [],
   "source": []
  }
 ],
 "metadata": {
  "kernelspec": {
   "display_name": "Python 3",
   "language": "python",
   "name": "python3"
  },
  "language_info": {
   "codemirror_mode": {
    "name": "ipython",
    "version": 3
   },
   "file_extension": ".py",
   "mimetype": "text/x-python",
   "name": "python",
   "nbconvert_exporter": "python",
   "pygments_lexer": "ipython3",
   "version": "3.8.3"
  }
 },
 "nbformat": 4,
 "nbformat_minor": 4
}
