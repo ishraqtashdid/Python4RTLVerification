{
 "cells": [
  {
   "cell_type": "markdown",
   "metadata": {},
   "source": [
    "## Building Hierarchy\n",
    "\n",
    "Note: The code below needs to be run in a freshly started Jupyter notebook kernal. Use the >> button above to run the code."
   ]
  },
  {
   "cell_type": "code",
   "execution_count": 1,
   "metadata": {},
   "outputs": [
    {
     "name": "stderr",
     "output_type": "stream",
     "text": [
      "INFO: <ipython-input-1-a2366c498a80>(21)[uvm_test_top]: uvm_test_top is here\n",
      "INFO: <ipython-input-1-a2366c498a80>(14)[uvm_test_top.mc]: mc is here\n",
      "INFO: <ipython-input-1-a2366c498a80>(6)[uvm_test_top.mc.bc]: bc is running\n"
     ]
    }
   ],
   "source": [
    "from pyuvm import *\n",
    "\n",
    "class BottomComp(uvm_component):\n",
    "    def run_phase(self):\n",
    "        self.raise_objection()\n",
    "        self.logger.info(f\"{self.get_name()} is running\")   \n",
    "        self.drop_objection()\n",
    "\n",
    "class MiddleComp(uvm_component):\n",
    "    def build_phase(self):\n",
    "        self.bc = BottomComp(name=\"bc\", parent=self)\n",
    "    \n",
    "    def end_of_elaboration_phase(self):\n",
    "        self.logger.info(f\"{self.get_name()} is here\")\n",
    "        \n",
    "class TopTest(uvm_test):\n",
    "    def build_phase(self):\n",
    "        self.mc = MiddleComp(\"mc\", self)\n",
    "    \n",
    "    def end_of_elaboration_phase(self):\n",
    "        self.logger.info(f\"{self.get_name()} is here\")\n",
    "\n",
    "uvm_root().run_test(\"TopTest\")"
   ]
  },
  {
   "cell_type": "code",
   "execution_count": null,
   "metadata": {},
   "outputs": [],
   "source": []
  }
 ],
 "metadata": {
  "kernelspec": {
   "display_name": "Python 3",
   "language": "python",
   "name": "python3"
  },
  "language_info": {
   "codemirror_mode": {
    "name": "ipython",
    "version": 3
   },
   "file_extension": ".py",
   "mimetype": "text/x-python",
   "name": "python",
   "nbconvert_exporter": "python",
   "pygments_lexer": "ipython3",
   "version": "3.8.3"
  }
 },
 "nbformat": 4,
 "nbformat_minor": 4
}
