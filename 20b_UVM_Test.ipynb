{
 "cells": [
  {
   "cell_type": "markdown",
   "metadata": {},
   "source": [
    "# The UVM Test"
   ]
  },
  {
   "cell_type": "markdown",
   "metadata": {},
   "source": [
    "### The run\\_phase Method\n",
    "\n",
    "*Note: The code below needs to be run in a freshly started Jupyter notebook kernal. This means after you run it once, you must restart the kernal by pressing the >> button above will run it cleanly."
   ]
  },
  {
   "cell_type": "code",
   "execution_count": 1,
   "metadata": {},
   "outputs": [
    {
     "name": "stderr",
     "output_type": "stream",
     "text": [
      "ERROR: <ipython-input-1-81eb5ae41787>(37)[uvm_test_top]: FAILED: 6f XOR 69 = 0007 expected 0006\n",
      "INFO: <ipython-input-1-81eb5ae41787>(35)[uvm_test_top]: PASSED: 96 MUL d3 = 7ba2\n",
      "INFO: <ipython-input-1-81eb5ae41787>(35)[uvm_test_top]: PASSED: 2a ADD a3 = 00cd\n",
      "ERROR: <ipython-input-1-81eb5ae41787>(39)[uvm_test_top]: Functional coverage error. Missed: {<Ops.AND: 2>}\n"
     ]
    }
   ],
   "source": [
    "from pyuvm import *\n",
    "import proxy_pkg\n",
    "import random\n",
    "import time\n",
    "\n",
    "class AluTest(uvm_test):\n",
    "    @staticmethod\n",
    "    def alu_op(A, B, op, error = False):\n",
    "        \"\"\"Python model of the TinyALU\"\"\"\n",
    "        assert isinstance(op, proxy_pkg.Ops), \"The tinyalu op must be of type ops\"\n",
    "        if op == proxy_pkg.Ops.ADD:\n",
    "            result = A + B\n",
    "        elif op == proxy_pkg.Ops.AND:\n",
    "            result = A & B\n",
    "        elif op == proxy_pkg.Ops.XOR:\n",
    "            result = A ^ B\n",
    "        elif op == proxy_pkg.Ops.MUL:\n",
    "            result = A * B\n",
    "        time.sleep(0.1)\n",
    "        if error and (random.randint(0,3) == 0):\n",
    "            result = result + 1\n",
    "        return result\n",
    "\n",
    "    def run_phase(self):\n",
    "        self.raise_objection()  ## You MUST raise an objection\n",
    "        cvg = set() #functional coverage\n",
    "        for _ in range(3):\n",
    "            A = random.randrange(256)\n",
    "            B = random.randrange(256)\n",
    "            op = random.choice(list(proxy_pkg.Ops))\n",
    "            cvg.add(op)\n",
    "            predicted_result = self.alu_op(A, B, op)\n",
    "            actual_result = self.alu_op(A, B, op, error=True)\n",
    "            if predicted_result == actual_result:\n",
    "                self.logger.info( f\"PASSED: {A:02x} {op.name} {B:02x} = {actual_result:04x}\")\n",
    "            else:\n",
    "                self.logger.error(f\"FAILED: {A:02x} {op.name} {B:02x} = {actual_result:04x} expected {predicted_result:04x}\")\n",
    "        if len(set(proxy_pkg.Ops) - cvg) > 0:\n",
    "            self.logger.error(f\"Functional coverage error. Missed: {set(proxy_pkg.Ops)-cvg}\")\n",
    "        self.drop_objection()  ## drop the objection to end\n",
    "\n",
    "uvm_root().run_test(\"AluTest\")"
   ]
  },
  {
   "cell_type": "code",
   "execution_count": 2,
   "metadata": {},
   "outputs": [],
   "source": [
    "import proxy_pkg"
   ]
  },
  {
   "cell_type": "code",
   "execution_count": null,
   "metadata": {},
   "outputs": [],
   "source": []
  }
 ],
 "metadata": {
  "kernelspec": {
   "display_name": "Python 3",
   "language": "python",
   "name": "python3"
  },
  "language_info": {
   "codemirror_mode": {
    "name": "ipython",
    "version": 3
   },
   "file_extension": ".py",
   "mimetype": "text/x-python",
   "name": "python",
   "nbconvert_exporter": "python",
   "pygments_lexer": "ipython3",
   "version": "3.8.3"
  }
 },
 "nbformat": 4,
 "nbformat_minor": 4
}
