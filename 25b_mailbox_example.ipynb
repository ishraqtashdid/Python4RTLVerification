{
 "cells": [
  {
   "cell_type": "markdown",
   "metadata": {},
   "source": [
    "# TLM Ports and Exports\n",
    "\n",
    "Note: These examples must be run in a freshly restarted notebook kernal.  Use the >> icon above to run the example.\n",
    "\n",
    "## Mailbox Example"
   ]
  },
  {
   "cell_type": "code",
   "execution_count": 1,
   "metadata": {
    "scrolled": true
   },
   "outputs": [
    {
     "name": "stdout",
     "output_type": "stream",
     "text": [
      "checking mail and got . . . None\n",
      "checking mail and got . . . None\n",
      "checking mail and got . . . Congratulations\n"
     ]
    }
   ],
   "source": [
    "from pyuvm import *\n",
    "import random\n",
    "\n",
    "class POBox(uvm_nonblocking_get_export):\n",
    "    def try_get(self):\n",
    "        if random.randint(0,3) == 0:\n",
    "            return \"Congratulations\", True\n",
    "        else:\n",
    "            return None, False\n",
    "\n",
    "class PostOffice(uvm_component):\n",
    "    def build_phase(self):\n",
    "        self.po_box_export = POBox(\"po_box_export\", self)\n",
    "\n",
    "class CompulsiveChecker(uvm_component):\n",
    "    def build_phase(self):\n",
    "        self.po_box_port  = uvm_nonblocking_get_port(\"po_box_port\", self)\n",
    "\n",
    "    def run_phase(self):\n",
    "        self.raise_objection()\n",
    "        got_mail = False\n",
    "        while not got_mail:\n",
    "            print(\"checking mail and got . . .\", end=\" \")\n",
    "            mail, got_mail = self.po_box_port.try_get()\n",
    "            print(mail)\n",
    "        self.drop_objection()\n",
    "        \n",
    "class Community(uvm_test):\n",
    "    def build_phase(self):\n",
    "        self.post_office  = PostOffice(\"post_office\", self)\n",
    "        self.mail_checker = CompulsiveChecker(\"mail_checker\", self)\n",
    "    \n",
    "    def connect_phase(self):\n",
    "        self.mail_checker.po_box_port.connect(self.post_office.po_box_export)\n",
    "        \n",
    "uvm_root().run_test(\"Community\")"
   ]
  },
  {
   "cell_type": "code",
   "execution_count": null,
   "metadata": {},
   "outputs": [],
   "source": []
  }
 ],
 "metadata": {
  "kernelspec": {
   "display_name": "Python 3",
   "language": "python",
   "name": "python3"
  },
  "language_info": {
   "codemirror_mode": {
    "name": "ipython",
    "version": 3
   },
   "file_extension": ".py",
   "mimetype": "text/x-python",
   "name": "python",
   "nbconvert_exporter": "python",
   "pygments_lexer": "ipython3",
   "version": "3.8.3"
  }
 },
 "nbformat": 4,
 "nbformat_minor": 4
}
