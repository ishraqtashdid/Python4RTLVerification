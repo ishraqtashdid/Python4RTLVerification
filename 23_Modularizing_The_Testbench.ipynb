{
 "cells": [
  {
   "cell_type": "markdown",
   "metadata": {},
   "source": [
    "# Modularizing the Testbench"
   ]
  },
  {
   "cell_type": "code",
   "execution_count": 1,
   "metadata": {},
   "outputs": [
    {
     "ename": "AssertionError",
     "evalue": "There are FOUR lights!",
     "output_type": "error",
     "traceback": [
      "\u001b[0;31m---------------------------------------------------------------------------\u001b[0m",
      "\u001b[0;31mAssertionError\u001b[0m                            Traceback (most recent call last)",
      "\u001b[0;32m<ipython-input-1-050ae6b18dfd>\u001b[0m in \u001b[0;36m<module>\u001b[0;34m\u001b[0m\n\u001b[0;32m----> 1\u001b[0;31m \u001b[0;32massert\u001b[0m \u001b[0;36m4\u001b[0m \u001b[0;34m==\u001b[0m \u001b[0;36m5\u001b[0m\u001b[0;34m,\u001b[0m \u001b[0;34m\"There are FOUR lights!\"\u001b[0m\u001b[0;34m\u001b[0m\u001b[0;34m\u001b[0m\u001b[0m\n\u001b[0m",
      "\u001b[0;31mAssertionError\u001b[0m: There are FOUR lights!"
     ]
    }
   ],
   "source": [
    "assert 4 == 5, \"There are FOUR lights!\""
   ]
  },
  {
   "cell_type": "code",
   "execution_count": 2,
   "metadata": {},
   "outputs": [
    {
     "name": "stderr",
     "output_type": "stream",
     "text": [
      "ERROR: <ipython-input-2-a247dc4e850f>(36)[uvm_test_top.env.cvg]: Functional coverage error. Missed: {<Ops.ADD: 1>, <Ops.MUL: 4>}\n",
      "ERROR: <ipython-input-2-a247dc4e850f>(54)[uvm_test_top.env.scb]: FAILED: 92 XOR 9b = 000a expected 0009\n",
      "INFO: <ipython-input-2-a247dc4e850f>(51)[uvm_test_top.env.scb]: PASSED: 19 XOR 5b = 0042\n",
      "INFO: <ipython-input-2-a247dc4e850f>(51)[uvm_test_top.env.scb]: PASSED: 90 AND 5d = 0010\n"
     ]
    }
   ],
   "source": [
    "from pyuvm import *\n",
    "from proxy_pkg import *\n",
    "import random\n",
    "\n",
    "class AluProxy(uvm_component):\n",
    "    \"\"\"Provides the ALU Python operations\"\"\"\n",
    "    @staticmethod\n",
    "    def alu_op(A, B, op, inject_errors = False):\n",
    "        \"\"\"Python model of the TinyALU\"\"\"\n",
    "        assert isinstance(op, Ops), \"The tinyalu op must be of type ops\"\n",
    "        if op == Ops.ADD:\n",
    "            result = A + B\n",
    "        elif op == Ops.AND:\n",
    "            result = A & B\n",
    "        elif op == Ops.XOR:\n",
    "            result = A ^ B\n",
    "        elif op == Ops.MUL:\n",
    "            result = A * B\n",
    "        if inject_errors:\n",
    "            time.sleep(0.1)\n",
    "            if random.randint(0,3) == 0:\n",
    "                result = result + 1\n",
    "        return result\n",
    "\n",
    "class Coverage(uvm_component):\n",
    "    \n",
    "    def end_of_elaboration_phase(self):\n",
    "        self.cvg = set()\n",
    "    \n",
    "    def write(self, op):\n",
    "        assert isinstance(op, Ops), \"Coverage can only receive Ops\"\n",
    "        self.cvg.add(op)\n",
    "\n",
    "    def check_phase(self):\n",
    "        if len(set(Ops) - self.cvg) > 0:\n",
    "            self.logger.error(f\"Functional coverage error. Missed: {set(Ops)-self.cvg}\")\n",
    "\n",
    "class Scoreboard(uvm_component):  \n",
    "\n",
    "    def end_of_elaboration_phase(self):\n",
    "        self.results=[]\n",
    "\n",
    "    def write(self, op_result):\n",
    "        A, B, op, actual_result = op_result\n",
    "        predicted_result = AluProxy.alu_op(A, B, op)\n",
    "        self.results.append( (A, B, op, predicted_result, actual_result) )\n",
    "\n",
    "    def check_phase(self):\n",
    "        for A, B, op, predicted_result, actual_result in self.results:\n",
    "            if predicted_result == actual_result:\n",
    "                self.logger.info( f\"PASSED: {A:02x} {op.name} {B:02x} =\"\n",
    "                                 f\" {actual_result:04x}\")\n",
    "            else:\n",
    "                self.logger.error(f\"FAILED: {A:02x} {op.name} {B:02x} =\"\n",
    "                                  f\" {actual_result:04x} expected {predicted_result:04x}\")\n",
    "\n",
    "\n",
    "class AluEnv(uvm_env):\n",
    "    def build_phase(self):\n",
    "        self.cvg = Coverage(\"cvg\", self)\n",
    "        self.scb = Scoreboard(\"scb\", self)\n",
    "        self.proxy = AluProxy(\"proxy\", self)\n",
    "    \n",
    "    def run_phase(self):\n",
    "        self.raise_objection()  ## You MUST raise an objection\n",
    "\n",
    "        for _ in range(3):\n",
    "            A = random.randrange(256)\n",
    "            B = random.randrange(256)\n",
    "            op = random.choice(list(Ops))\n",
    "            self.cvg.write(op)\n",
    "            actual_result = self.proxy.alu_op(A, B, op, inject_errors=True)\n",
    "            result_tuple = ( A, B, op, actual_result)\n",
    "            self.scb.write( result_tuple )\n",
    "        self.drop_objection()  ## drop the objection to end\n",
    "\n",
    "class AluTest(uvm_test):\n",
    "    def build_phase(self):\n",
    "        self.env = AluEnv(\"env\", self)\n",
    "\n",
    "uvm_root().run_test(\"AluTest\")"
   ]
  }
 ],
 "metadata": {
  "kernelspec": {
   "display_name": "Python 3",
   "language": "python",
   "name": "python3"
  },
  "language_info": {
   "codemirror_mode": {
    "name": "ipython",
    "version": 3
   },
   "file_extension": ".py",
   "mimetype": "text/x-python",
   "name": "python",
   "nbconvert_exporter": "python",
   "pygments_lexer": "ipython3",
   "version": "3.8.3"
  }
 },
 "nbformat": 4,
 "nbformat_minor": 4
}
