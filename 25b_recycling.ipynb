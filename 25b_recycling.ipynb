{
 "cells": [
  {
   "cell_type": "markdown",
   "metadata": {},
   "source": [
    "# TLM Ports and Exports\n",
    "\n",
    "Note: These examples must be run in a freshly restarted notebook kernal.  Use the >> icon above to run the example.\n",
    "\n",
    "### Put Port and Recycling Pickup"
   ]
  },
  {
   "cell_type": "code",
   "execution_count": 1,
   "metadata": {
    "scrolled": true
   },
   "outputs": [
    {
     "name": "stdout",
     "output_type": "stream",
     "text": [
      "Recycling picked up trash\n",
      "Recycling picked up more trash\n",
      "Recycling picked up more trash\n"
     ]
    }
   ],
   "source": [
    "from pyuvm import *\n",
    "\n",
    "class recycle_pickup(uvm_put_export):\n",
    "    def put(self, datum):\n",
    "        print(f\"Recycling picked up {datum}\")\n",
    "\n",
    "class Boston(uvm_component):\n",
    "    def build_phase(self):\n",
    "        self.pickup_export = recycle_pickup(\"pickup_export\", self)\n",
    "        \n",
    "class trash_day(uvm_test):\n",
    "    def build_phase(self):\n",
    "        self.curb  = uvm_put_port(\"curb\", self)\n",
    "        self.city = Boston(\"city\", self)\n",
    "    \n",
    "    def connect_phase(self):\n",
    "        self.curb.connect(self.city.pickup_export)\n",
    "    \n",
    "    def run_phase(self):\n",
    "        self.raise_objection()\n",
    "        self.curb.put(\"trash\")\n",
    "        for _ in range(2):\n",
    "            self.curb.put(\"more trash\")\n",
    "        self.drop_objection()\n",
    "        \n",
    "uvm_root().run_test(\"trash_day\")"
   ]
  },
  {
   "cell_type": "code",
   "execution_count": null,
   "metadata": {},
   "outputs": [],
   "source": []
  }
 ],
 "metadata": {
  "kernelspec": {
   "display_name": "Python 3",
   "language": "python",
   "name": "python3"
  },
  "language_info": {
   "codemirror_mode": {
    "name": "ipython",
    "version": 3
   },
   "file_extension": ".py",
   "mimetype": "text/x-python",
   "name": "python",
   "nbconvert_exporter": "python",
   "pygments_lexer": "ipython3",
   "version": "3.8.3"
  }
 },
 "nbformat": 4,
 "nbformat_minor": 4
}
